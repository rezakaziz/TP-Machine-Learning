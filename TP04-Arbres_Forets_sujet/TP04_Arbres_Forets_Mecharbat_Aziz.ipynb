{
  "nbformat": 4,
  "nbformat_minor": 0,
  "metadata": {
    "kernelspec": {
      "display_name": "Python 3",
      "language": "python",
      "name": "python3"
    },
    "language_info": {
      "codemirror_mode": {
        "name": "ipython",
        "version": 3
      },
      "file_extension": ".py",
      "mimetype": "text/x-python",
      "name": "python",
      "nbconvert_exporter": "python",
      "pygments_lexer": "ipython3",
      "version": "3.8.5"
    },
    "colab": {
      "name": "TP04-Arbres_Forets_Mecharbat_Aziz.ipynb",
      "provenance": [],
      "collapsed_sections": [],
      "toc_visible": true
    }
  },
  "cells": [
    {
      "cell_type": "markdown",
      "metadata": {
        "id": "xz1sTjoUTYIU"
      },
      "source": [
        "Binome ( SIQ3 ):\n",
        "-Mecharbat Lotfi Abdelkrim\n",
        "-Rezak Aziz "
      ]
    },
    {
      "cell_type": "markdown",
      "metadata": {
        "id": "vXH6KbY8bRnI"
      },
      "source": [
        "# TP04 : Arbres de décision et Forêts aléatoires\n",
        "\n",
        "\n",
        "## I. Implémentation\n",
        "\n",
        "Il existe plusieurs implémentations des arbres de décision :\n",
        "- ID3 (Iterative Dichotomiser 3): dévelopé en 1986 par Ross Quinlan. Il peut être appliqué seulement sur les caractéristiques nominales. Il est utilisé pour le classement.\n",
        "- C4.5: une extension de ID3 par Ross Quinlan. Il peut être appliqué sur tous les types de caractéristiques. Il est utilisé pour le classement.\n",
        "- C5.0: une extension commerciale de C4.5, toujours par Ross Quinlan.\n",
        "- CART (Classification and Regression Trees): comme C4.5 mais utilise d'autres métriques. Aussi, l'algorithme supporte la régression.\n",
        "\n",
        "Dans ce TP, on va implémenter ID3 pour les caracéristiques nominales et CART (classement) pour les caracéristiques numériques seulement .\n",
        "\n",
        "### I.1. ID3\n",
        "\n",
        "Ici, on va implémenter l'algorithme vu dans le cours. On va utiliser le dataset \"jouer (nominales)\" "
      ]
    },
    {
      "cell_type": "markdown",
      "metadata": {
        "id": "O_Ap9V-6Mycc"
      },
      "source": [
        ""
      ]
    },
    {
      "cell_type": "code",
      "metadata": {
        "colab": {
          "base_uri": "https://localhost:8080/"
        },
        "id": "Ti059ajJbaw4",
        "outputId": "56584048-2c3a-45e4-f88d-3f0eb16d5f24"
      },
      "source": [
        "!pip install graphviz \n",
        "!pip install timeit"
      ],
      "execution_count": null,
      "outputs": [
        {
          "output_type": "stream",
          "text": [
            "Requirement already satisfied: graphviz in /usr/local/lib/python3.7/dist-packages (0.10.1)\n",
            "\u001b[31mERROR: Could not find a version that satisfies the requirement timeit (from versions: none)\u001b[0m\n",
            "\u001b[31mERROR: No matching distribution found for timeit\u001b[0m\n"
          ],
          "name": "stdout"
        }
      ]
    },
    {
      "cell_type": "code",
      "metadata": {
        "colab": {
          "base_uri": "https://localhost:8080/",
          "height": 206
        },
        "id": "IyIy0nYNbRnN",
        "outputId": "1ed09057-0106-4038-b39f-b7024c6702e3"
      },
      "source": [
        "import numpy as np\n",
        "import pandas as pd \n",
        "import matplotlib.pyplot as plt \n",
        "%matplotlib inline\n",
        "\n",
        "jouer = pd.read_csv(\"datasets/jouer.csv\")\n",
        "\n",
        "X_jouer = jouer.iloc[:, :-1].values # Premières colonnes \n",
        "Y_jouer = jouer.iloc[:,-1].values # Dernière colonne \n",
        "\n",
        "# Afficher le dataset \"jouer\"\n",
        "jouer.head()"
      ],
      "execution_count": null,
      "outputs": [
        {
          "output_type": "execute_result",
          "data": {
            "text/html": [
              "<div>\n",
              "<style scoped>\n",
              "    .dataframe tbody tr th:only-of-type {\n",
              "        vertical-align: middle;\n",
              "    }\n",
              "\n",
              "    .dataframe tbody tr th {\n",
              "        vertical-align: top;\n",
              "    }\n",
              "\n",
              "    .dataframe thead th {\n",
              "        text-align: right;\n",
              "    }\n",
              "</style>\n",
              "<table border=\"1\" class=\"dataframe\">\n",
              "  <thead>\n",
              "    <tr style=\"text-align: right;\">\n",
              "      <th></th>\n",
              "      <th>temps</th>\n",
              "      <th>temperature</th>\n",
              "      <th>humidite</th>\n",
              "      <th>vent</th>\n",
              "      <th>jouer</th>\n",
              "    </tr>\n",
              "  </thead>\n",
              "  <tbody>\n",
              "    <tr>\n",
              "      <th>0</th>\n",
              "      <td>ensoleile</td>\n",
              "      <td>chaude</td>\n",
              "      <td>haute</td>\n",
              "      <td>non</td>\n",
              "      <td>non</td>\n",
              "    </tr>\n",
              "    <tr>\n",
              "      <th>1</th>\n",
              "      <td>ensoleile</td>\n",
              "      <td>chaude</td>\n",
              "      <td>haute</td>\n",
              "      <td>oui</td>\n",
              "      <td>non</td>\n",
              "    </tr>\n",
              "    <tr>\n",
              "      <th>2</th>\n",
              "      <td>nuageux</td>\n",
              "      <td>chaude</td>\n",
              "      <td>haute</td>\n",
              "      <td>non</td>\n",
              "      <td>oui</td>\n",
              "    </tr>\n",
              "    <tr>\n",
              "      <th>3</th>\n",
              "      <td>pluvieux</td>\n",
              "      <td>douce</td>\n",
              "      <td>haute</td>\n",
              "      <td>non</td>\n",
              "      <td>oui</td>\n",
              "    </tr>\n",
              "    <tr>\n",
              "      <th>4</th>\n",
              "      <td>pluvieux</td>\n",
              "      <td>fraiche</td>\n",
              "      <td>normale</td>\n",
              "      <td>non</td>\n",
              "      <td>oui</td>\n",
              "    </tr>\n",
              "  </tbody>\n",
              "</table>\n",
              "</div>"
            ],
            "text/plain": [
              "       temps temperature humidite vent jouer\n",
              "0  ensoleile      chaude    haute  non   non\n",
              "1  ensoleile      chaude    haute  oui   non\n",
              "2    nuageux      chaude    haute  non   oui\n",
              "3   pluvieux       douce    haute  non   oui\n",
              "4   pluvieux     fraiche  normale  non   oui"
            ]
          },
          "metadata": {
            "tags": []
          },
          "execution_count": 3
        }
      ]
    },
    {
      "cell_type": "markdown",
      "metadata": {
        "id": "ZbL8wSYpbRnR"
      },
      "source": [
        "#### I.1.1. Probabilité \n",
        "\n",
        "Etant donné une liste des valeurs $S$, la probabilité d'occurence d'une valeur $v$  est le nombre d'occurence de $v$ dans $S$ divisé par le nombre total des éléments de $S$. \n",
        "\n",
        "$$p(v/S) = \\frac{|\\{x / x \\in S \\text{ et } x = v\\}|}{|S|}$$\n",
        "\n",
        "Exemple, prenons la colonne \"jouer\". \n",
        "Le nombre de \"oui\" est 9 et le nombre total est 14. \n",
        "$$p(jouer=oui) = \\frac{9}{14} = 0.6428571428571429$$"
      ]
    },
    {
      "cell_type": "code",
      "metadata": {
        "colab": {
          "base_uri": "https://localhost:8080/"
        },
        "id": "OFEEdVXAbRnR",
        "outputId": "9c2939d3-a1d6-42ab-e14d-5f1b83573cb3"
      },
      "source": [
        "# TODO calculer la probabilité d'occurence d'une valeur val dans un ensemble S\n",
        "# PS: si la division retourne toujours 0, essayer d'appliquer float(x) sur le numérateur ou le dénominateur\n",
        "def P(S, v): \n",
        "  val=np.array(S)\n",
        "  unique, counts = np.unique(val, return_counts=True)\n",
        "  vdict=dict(zip(unique, counts))\n",
        "  return vdict[v]/len(val)\n",
        "\n",
        "#=====================================================================\n",
        "# TEST UNITAIRE\n",
        "#=====================================================================\n",
        "# Resultat : \n",
        "# (0.6428571428571429,\n",
        "#  0.35714285714285715,\n",
        "#  0.2857142857142857,\n",
        "#  0.35714285714285715)\n",
        "#---------------------------------------------------------------------\n",
        "\n",
        "P(Y_jouer, \"oui\"), P(X_jouer[:,0], \"ensoleile\"), P(X_jouer[:, 0], \"nuageux\"), P(X_jouer[:,0], \"pluvieux\")"
      ],
      "execution_count": null,
      "outputs": [
        {
          "output_type": "execute_result",
          "data": {
            "text/plain": [
              "(0.6428571428571429,\n",
              " 0.35714285714285715,\n",
              " 0.2857142857142857,\n",
              " 0.35714285714285715)"
            ]
          },
          "metadata": {
            "tags": []
          },
          "execution_count": 4
        }
      ]
    },
    {
      "cell_type": "markdown",
      "metadata": {
        "id": "y9eUxkhebRnS"
      },
      "source": [
        "#### I.1.2. Incertitude d'un ensemble\n",
        "\n",
        "L'entropie de Shannon correspond à la quantité d'information contenue dans une source d'information ; plus la source émet d'informations différentes, plus l'entropie (ou l'incertitude sur ce que la source émet) est grande.\n",
        "Donc, un ensemble avec une entropie de 0 contient les mêmes valeurs.\n",
        "Etant donné : \n",
        "- $S$ une liste des valeurs \n",
        "- $V$ un ensemble de valeurs uniques de $S$ (vocabulaire) \n",
        "\n",
        "L'entropie de $S$ est calculée comme suit : \n",
        "$$H(S) = - \\sum\\limits_{v \\in V} p(v/S) \\log_2 p(v/S)$$\n",
        "\n",
        "Par exemple, la colonne \"jouer\" contient deux valeurs \"oui\" et \"non\". \n",
        "Son entopie est :\n",
        "$$H(jouer) = - \\frac{9}{14} * \\log_2(\\frac{9}{14}) - \\frac{5}{14} * \\log_2(\\frac{5}{14}) = 0.9402859586706309$$ \n"
      ]
    },
    {
      "cell_type": "code",
      "metadata": {
        "colab": {
          "base_uri": "https://localhost:8080/"
        },
        "id": "3vTeWKGlbRnT",
        "outputId": "aa67c770-ad89-451e-e1df-afcab73083f7"
      },
      "source": [
        "# TODO compléter la fonction d'entropie\n",
        "# np.log2 : calcule log2 d'une valeur, vecteur ou matrice\n",
        "def H(S):  \n",
        "    V = np.unique(S)\n",
        "    entropie = 0\n",
        "    # Compléter ici\n",
        "    p=np.array([P(S,v) for v in V])\n",
        "    log=np.log2(p)\n",
        "    m=p*log\n",
        "    entropie=-np.sum(m,axis=0)\n",
        "\n",
        "    return entropie \n",
        "\n",
        "#=====================================================================\n",
        "# TEST UNITAIRE\n",
        "#=====================================================================\n",
        "# Resultat : (0.9402859586706311, 1.5774062828523454)\n",
        "#---------------------------------------------------------------------\n",
        "\n",
        "H(Y_jouer), H(X_jouer[:,0])"
      ],
      "execution_count": null,
      "outputs": [
        {
          "output_type": "execute_result",
          "data": {
            "text/plain": [
              "(0.9402859586706309, 1.5774062828523454)"
            ]
          },
          "metadata": {
            "tags": []
          },
          "execution_count": 5
        }
      ]
    },
    {
      "cell_type": "markdown",
      "metadata": {
        "id": "VjTlOAMZbRnU"
      },
      "source": [
        "#### I.1.3. Division d'un ensemble\n",
        "\n",
        "**Rien à programmer ici**\n",
        "\n",
        "Ici, on essaye de diviser la liste des prédictions (classes) selon les valeurs d'un attribut (caractéristique, colonne) à des sous listes. \n",
        "\n",
        "Etant donné : \n",
        "- **Y** : la liste à diviser\n",
        "- **A** : la liste des valeurs d'un attribut (caractéristique, colonne). C'est un vecteur aligné avec Y ; c-à-d, chaque élément de A a un élément de Y respectif.\n",
        "- **v** : la valeur sur laquelle on divie.\n",
        "\n",
        "$$S_{A,v} = \\{y^{(i)} \\in Y / a^{(i)} \\in A \\wedge a^{(i)} = v\\}\\}$$\n",
        "\n",
        "Par exemple, si \n",
        "- $Y$ est la liste des prédictions de \"jouer\"\n",
        "- $A$ est la liste des valeurs de la caractéristique \"temps\"\n",
        "- $v$ est la valeur \"ensoleile\"\n",
        "La sous ensemble de \"jouer\" où (temps = \"ensoleile\") contient 3 non et 2 oui "
      ]
    },
    {
      "cell_type": "code",
      "metadata": {
        "colab": {
          "base_uri": "https://localhost:8080/"
        },
        "id": "oWGzDRSobRnV",
        "outputId": "cece1b91-bebf-4f73-b60c-b4b45af163d9"
      },
      "source": [
        "def diviser_ID3(Y, A, v):\n",
        "    msk = A == v\n",
        "    return Y[msk]\n",
        "\n",
        "#=====================================================================\n",
        "# TEST UNITAIRE\n",
        "#=====================================================================\n",
        "# Resultat : array(['non', 'non', 'non', 'oui', 'oui'], dtype=object)\n",
        "#---------------------------------------------------------------------\n",
        "\n",
        "diviser_ID3(Y_jouer, X_jouer[:,0], \"ensoleile\")"
      ],
      "execution_count": null,
      "outputs": [
        {
          "output_type": "execute_result",
          "data": {
            "text/plain": [
              "array(['non', 'non', 'non', 'oui', 'oui'], dtype=object)"
            ]
          },
          "metadata": {
            "tags": []
          },
          "execution_count": 6
        }
      ]
    },
    {
      "cell_type": "markdown",
      "metadata": {
        "id": "qe_2k6FGbRnW"
      },
      "source": [
        "#### I.1.4. Gain d'entropie\n",
        "\n",
        "Le gain d'entropie (information gain) est la différence entre l'entropie avant et après la division d'une liste $Y$ selon l'attribut $A$. \n",
        "En d'autres termes, combien d'incertitude dans $Y$ a été réduite après sa division en utilisant l'attribut $A$.\n",
        "\n",
        "Etant donné : \n",
        "- **Y** : une liste à diviser\n",
        "- **A** : une liste des valeurs d'un attribut (caractéristique, colonne) \n",
        "- **V** : l'ensemble des valeurs différentes de l'attribut A (vocabulaire)\n",
        "- **p(v/A)** : la probabité d'occurence de la valeur $v$ dans $A$\n",
        "- $Y_{A, v}$ : sous-ensemble de $Y$ où les valeurs de $V$ égalent à $v$  en utilisant la fonction précédente (diviser_ID3)\n",
        "\n",
        "Le gain d'entrepie se calcule comme suit : \n",
        "\n",
        "$$IG(Y, A) = H(Y) - \\sum_{v \\in V} p(v/A) H(Y_{A, v})$$"
      ]
    },
    {
      "cell_type": "code",
      "metadata": {
        "colab": {
          "base_uri": "https://localhost:8080/"
        },
        "id": "D2gs2ThMbRnX",
        "outputId": "bfc1200f-9168-4c76-f909-a4d000f7e445"
      },
      "source": [
        "# TODO Compléter la fonction du gain d'entropie\n",
        "# elle doit rendre le gain d'entropie et l'entropie \n",
        "# On rend l'entropie pour ne pas recalculer ultérierement \n",
        "def IG(Y, A):\n",
        "    V = np.unique(A)\n",
        "    entropie = H(Y)\n",
        "    ig_global = entropie\n",
        "    # Compléter ici\n",
        "    p=np.array([P(A,v)*H(diviser_ID3(Y,A,v)) for v in V])\n",
        "    sum=np.sum(p,axis=0)\n",
        "    ig_global-=sum \n",
        "    return ig_global, entropie\n",
        "\n",
        "#=====================================================================\n",
        "# TEST UNITAIRE\n",
        "#=====================================================================\n",
        "# Resultat : (0.24674981977443933, 0.9402859586706311)\n",
        "#---------------------------------------------------------------------\n",
        "\n",
        "IG(Y_jouer, X_jouer[:, 0])"
      ],
      "execution_count": null,
      "outputs": [
        {
          "output_type": "execute_result",
          "data": {
            "text/plain": [
              "(0.2467498197744391, 0.9402859586706309)"
            ]
          },
          "metadata": {
            "tags": []
          },
          "execution_count": 7
        }
      ]
    },
    {
      "cell_type": "markdown",
      "metadata": {
        "id": "NkCYi_WybRnY"
      },
      "source": [
        "#### I.1.5. Choix de l'attribut de division ID3\n",
        "\n",
        "Ici, vous devez chercher l'attribut qui maximise IG.\n",
        "\n",
        "$$jj = \\arg\\max_j IG(Y, X_j)$$\n",
        "\n",
        "La fonction doit rendre jj, le IG de division en utilisant jj et l'entropy"
      ]
    },
    {
      "cell_type": "code",
      "metadata": {
        "colab": {
          "base_uri": "https://localhost:8080/"
        },
        "id": "ZIMet4tLbRnZ",
        "outputId": "de47e315-cf18-4957-f78c-0bb581e38760"
      },
      "source": [
        "# TODO compléter la fonction du choix d'attribut de dévision\n",
        "# le plus adéquat pour diviser Y \n",
        "# elle doit, aussi, rendre le IG et le H de ce caractéristique \n",
        "def choisir_devision_ID3(X, Y): \n",
        "    jj = -1 # numéro d'attribut qui maximise IG\n",
        "    ig_jj = -1.0 # IG de cet attribut (le max)\n",
        "    h_jj = -1.0  # Entropie \n",
        "    As=[X[:,i] for i in range(0,X.shape[1])]\n",
        "    IGs=np.array([IG(Y,A)[0] for A in As])\n",
        "    Hs=np.array([IG(Y,A)[1] for A in As])\n",
        "    jj=np.argmax(IGs)\n",
        "    ig_jj=IGs[jj]\n",
        "    h_jj=Hs[jj]\n",
        "    # Compléter ici\n",
        "    return jj, ig_jj, h_jj\n",
        "\n",
        "#=====================================================================\n",
        "# TEST UNITAIRE\n",
        "#=====================================================================\n",
        "# Resultat : (0, 0.24674981977443933, 0.9402859586706311)\n",
        "#---------------------------------------------------------------------\n",
        "\n",
        "choisir_devision_ID3(X_jouer, Y_jouer)"
      ],
      "execution_count": null,
      "outputs": [
        {
          "output_type": "execute_result",
          "data": {
            "text/plain": [
              "(0, 0.2467498197744391, 0.9402859586706309)"
            ]
          },
          "metadata": {
            "tags": []
          },
          "execution_count": 8
        }
      ]
    },
    {
      "cell_type": "markdown",
      "metadata": {
        "id": "o8Ca3Co4bRna"
      },
      "source": [
        "#### I.1.6. Arrêt de division\n",
        "\n",
        "Etant donné les données suivantes :\n",
        "- **Y** : l'ensemble des prédiction au niveau d'un noeud\n",
        "- **h** : le critère d'homoginiété. h = 0 ==> l'ensemble Y est homogène (mêmes valeurs)\n",
        "- **nbr_min** : le nombre minimale des observations dans un noeud. |Y| <= nbr_min ==> le noeud doit être une feuille\n",
        "\n",
        "La fonction d'arrêt doit retourner : \n",
        "- Le nom de la classe : si l'ensemble est homogène ou il contient un nombre minimal des éléments\n",
        "- None : sinon"
      ]
    },
    {
      "cell_type": "code",
      "metadata": {
        "colab": {
          "base_uri": "https://localhost:8080/"
        },
        "id": "dJeNIMPebRna",
        "outputId": "9114b720-096a-45e8-c36f-5e7ff30c4cec"
      },
      "source": [
        "# TODO : réaliser la fonction d'arrêt ID3\n",
        "# HINT : utiliser numpy.unique et numpy.argmax\n",
        "def arreter_ID3(Y, h, nbr_min):\n",
        "  if(h==0 or len(Y)<=nbr_min):  \n",
        "    (values,counts) = np.unique(Y,return_counts=True)\n",
        "    return values[np.argmax(counts)]\n",
        "  else:\n",
        "    return None\n",
        "\n",
        "#=====================================================================\n",
        "# TEST UNITAIRE\n",
        "#=====================================================================\n",
        "# Resultat : ('oui', 'non', None)\n",
        "#---------------------------------------------------------------------\n",
        "\n",
        "Y_t1 = np.array([\"oui\", \"oui\", \"oui\"])\n",
        "Y_t2 = np.array([\"oui\", \"non\", \"non\"])\n",
        "arreter_ID3(Y_t1, H(Y_t1), 2), arreter_ID3(Y_t2, H(Y_t2), 4), arreter_ID3(Y_t2, H(Y_t2), 2)"
      ],
      "execution_count": null,
      "outputs": [
        {
          "output_type": "execute_result",
          "data": {
            "text/plain": [
              "('oui', 'non', None)"
            ]
          },
          "metadata": {
            "tags": []
          },
          "execution_count": 9
        }
      ]
    },
    {
      "cell_type": "markdown",
      "metadata": {
        "id": "WlDX9Q5obRnb"
      },
      "source": [
        "#### I.1.7. Création de l'arbre\n",
        "\n",
        "**Rien à programmer ici**\n"
      ]
    },
    {
      "cell_type": "code",
      "metadata": {
        "colab": {
          "base_uri": "https://localhost:8080/",
          "height": 278
        },
        "id": "2ZMgqewQbRnb",
        "outputId": "378a9a67-2830-48a5-8b4d-e7f331538453"
      },
      "source": [
        "# Une classe pour contenir les informations du noeud et \n",
        "# la liste de ces fils\n",
        "class Noeud(object): \n",
        "    \n",
        "    nbr = 0\n",
        "    \n",
        "    def __init__(self, num, ig, h, profondeur): \n",
        "        self.num = num # le numéro du caractéristique de dévision dans X\n",
        "        self.ig = ig # le IG de division\n",
        "        self.h = h # l'entropie H\n",
        "        self.pr = profondeur # la profondeur du noeud\n",
        "        self.fils = {} # les fils ; un dictionnaire valeur : noeud\n",
        "        self.cls = \"\" # la classe si ce noeud est final (s'il n'y a pas de fils)\n",
        "        self.indent = \"    \" # indentation lorsqu'on génère le code\n",
        "    \n",
        "    # Cette fonction est pour transformer le noeud à une string\n",
        "    #Ici, nous avons redéfini cette fonction afin qu'elle écrive l'arbre \n",
        "    #sous form d'un algorithme ; c'est un parser \n",
        "    def __str__(self):\n",
        "        \n",
        "        indent = self.indent * self.pr # indentation : esthetique\n",
        "        \n",
        "        # s'il n'y a pas de fils, le noeud est terminal ; on imprime la classe\n",
        "        if (len(self.fils)==0):\n",
        "            return indent + 'Y est \"' + self.cls + '\"\\n'\n",
        "        \n",
        "        # s'il y a des fils, on boucle sur les fils et on imprime des SI ... ALORS\n",
        "        res = \"\"\n",
        "        for valeur in self.fils:\n",
        "            res += indent + 'Si X[' + str(self.num) + '] est \"' + str(valeur) + '\" Alors\\n' + str(self.fils[valeur])\n",
        "        return res\n",
        "    \n",
        "    # predire un échantillon\n",
        "    def predire(self, x): \n",
        "        \n",
        "        # Si le noeud est final, il rend sa classe \n",
        "        if (len(self.fils)==0):\n",
        "            return self.cls\n",
        "        \n",
        "        # Si la valeur de la colonne respective à ce noeud n'appartient pas à l'ensemble des\n",
        "        # valeurs attendues, on rend np.nan\n",
        "        if x[self.num] not in self.fils: \n",
        "            return np.nan\n",
        "        \n",
        "        # Sinon, on rend \n",
        "        return self.fils[x[self.num]].predire(x)\n",
        "    \n",
        "    # générer un code pour graphviz\n",
        "    def graphviz(self): \n",
        "        \n",
        "        nid = 'N' + str(Noeud.nbr)\n",
        "        Noeud.nbr += 1\n",
        "        \n",
        "        # Si le noeud est final, \n",
        "        if (len(self.fils)==0):\n",
        "            return nid, nid + '[label=\"' + self.cls + '\" shape=ellipse];\\n'\n",
        "        \n",
        "        # Sinon, \n",
        "        # s'il y a des fils, on boucle sur les fils et on imprime des SI ... ALORS\n",
        "        res = nid + '[label=\"X[' + str(self.num) + ']\\\\n'\n",
        "        res += 'H = ' + str(self.h) + '\\\\n'\n",
        "        res += 'IG = ' + str(self.ig) + '\"];\\n'\n",
        "        for valeur in self.fils:\n",
        "            vid, code = self.fils[valeur].graphviz()\n",
        "            res += code\n",
        "            res += nid + ' -> ' + vid + ' [label=\"' + valeur + '\"];\\n'\n",
        "        return nid, res\n",
        "    \n",
        "\n",
        "# créer l'arbre de décision à partir d'un ensemble X et Y\n",
        "def entrainer_ID3(X, Y, nbr_min=0, profondeur=0): \n",
        "    \n",
        "    # Chercher la meilleure caractéristique de X pour diviser Y\n",
        "    jj, ig_jj, h_jj = choisir_devision_ID3(X, Y)\n",
        "    # Créer un noeud\n",
        "    noeud = Noeud(jj, ig_jj, h_jj, profondeur)\n",
        "    # si arrêter rend une classe, donc c'est une feuille \n",
        "    cls = arreter_ID3(Y, h_jj, nbr_min)\n",
        "    if cls:\n",
        "        noeud.cls = cls # la classe du noeud\n",
        "        return noeud # retourner le noeud \n",
        "    \n",
        "    # Sinon, si le noeud n'est pas une feuille, on crée ces fils\n",
        "    profondeur += 1 # la profondeur de ces fils\n",
        "    # les fils sont créés à partir des valeurs uniques du meilleur caractéristique\n",
        "    for v in np.unique(X[:, jj]):\n",
        "        # Ces trois lignes sont pour récupérer les sous-ensembles X_val, Y_val\n",
        "        # Corresondants à une valeur du meilleur caractéristique\n",
        "        msk = X[:, jj] == v \n",
        "        X_v = X[msk]\n",
        "        Y_v = Y[msk]\n",
        "        # On refait la même opération sur l'ensemble (Y_val) d'une manière récursive\n",
        "        fils = entrainer_ID3(X_v, Y_v, nbr_min=nbr_min, profondeur=profondeur)\n",
        "        # On affecte le noeud créé indexé par la valeur du meilleur caractéristique \n",
        "        # à l'ensemble des fils du noeud courant\n",
        "        noeud.fils[v] = fils\n",
        "    \n",
        "    return noeud\n",
        "\n",
        "arbre_jouer = entrainer_ID3(X_jouer, Y_jouer)\n",
        "\n",
        "print(\"Le Code\")\n",
        "print(arbre_jouer)\n",
        "\n",
        "# Tester sur un échantillon\n",
        "arbre_jouer.predire([\"pluvieux\", \"temperature_makanche\", \"humidite_makanche\", \"non\"])"
      ],
      "execution_count": null,
      "outputs": [
        {
          "output_type": "stream",
          "text": [
            "Le Code\n",
            "Si X[0] est \"ensoleile\" Alors\n",
            "    Si X[2] est \"haute\" Alors\n",
            "        Y est \"non\"\n",
            "    Si X[2] est \"normale\" Alors\n",
            "        Y est \"oui\"\n",
            "Si X[0] est \"nuageux\" Alors\n",
            "    Y est \"oui\"\n",
            "Si X[0] est \"pluvieux\" Alors\n",
            "    Si X[3] est \"non\" Alors\n",
            "        Y est \"oui\"\n",
            "    Si X[3] est \"oui\" Alors\n",
            "        Y est \"non\"\n",
            "\n"
          ],
          "name": "stdout"
        },
        {
          "output_type": "execute_result",
          "data": {
            "application/vnd.google.colaboratory.intrinsic+json": {
              "type": "string"
            },
            "text/plain": [
              "'oui'"
            ]
          },
          "metadata": {
            "tags": []
          },
          "execution_count": 10
        }
      ]
    },
    {
      "cell_type": "markdown",
      "metadata": {
        "id": "xG1xVzQ_bRnd"
      },
      "source": [
        "#### I.1.8. Regrouper le tous\n",
        "\n",
        "**Rien à programmer ici**"
      ]
    },
    {
      "cell_type": "code",
      "metadata": {
        "colab": {
          "base_uri": "https://localhost:8080/"
        },
        "id": "ewCb2wJqbRnd",
        "outputId": "ce9b4cef-5138-4370-f9a3-7032538cbd54"
      },
      "source": [
        "class ID3(object): \n",
        "    \n",
        "    def entrainer(self, X, Y, X_noms=[], Y_nom=\"\", nbr_min=0):\n",
        "        self.arbre = entrainer_ID3(X, Y, nbr_min=nbr_min)\n",
        "        code = str(self.arbre)\n",
        "        if len(Y_nom) > 0: \n",
        "            code = code.replace(\"Y\", Y_nom)\n",
        "        for i in range(len(X_noms)): \n",
        "            code = code.replace(\"X[\" + str(i) + \"]\", X_noms[i])\n",
        "        self.code = code\n",
        "        self.X_noms = X_noms\n",
        "    \n",
        "    def predire(self, X): \n",
        "        predictions = []\n",
        "        for i in range(len(X)): \n",
        "            predictions.append(self.arbre.predire(X[i, :]))\n",
        "        return predictions\n",
        "    \n",
        "    def graphviz(self): \n",
        "        nid, code = self.arbre.graphviz()\n",
        "        res = \"digraph Tree {\\n\"\n",
        "        res += \"node [shape=box] ;\"\n",
        "        for i in range(len(self.X_noms)): \n",
        "            code = code.replace(\"X[\" + str(i) + \"]\", self.X_noms[i])\n",
        "        res += code\n",
        "        res += \"}\"\n",
        "        return res\n",
        "\n",
        "id3_classifieur = ID3()\n",
        "id3_classifieur.entrainer(X_jouer, Y_jouer, X_noms=[\"temps\", \"temperature\", \"humidite\", \"vent\"], Y_nom=\"jouer\")\n",
        "print(id3_classifieur.code)"
      ],
      "execution_count": null,
      "outputs": [
        {
          "output_type": "stream",
          "text": [
            "Si temps est \"ensoleile\" Alors\n",
            "    Si humidite est \"haute\" Alors\n",
            "        jouer est \"non\"\n",
            "    Si humidite est \"normale\" Alors\n",
            "        jouer est \"oui\"\n",
            "Si temps est \"nuageux\" Alors\n",
            "    jouer est \"oui\"\n",
            "Si temps est \"pluvieux\" Alors\n",
            "    Si vent est \"non\" Alors\n",
            "        jouer est \"oui\"\n",
            "    Si vent est \"oui\" Alors\n",
            "        jouer est \"non\"\n",
            "\n"
          ],
          "name": "stdout"
        }
      ]
    },
    {
      "cell_type": "code",
      "metadata": {
        "colab": {
          "base_uri": "https://localhost:8080/",
          "height": 357
        },
        "id": "GF4L6Y6jbRne",
        "outputId": "5ccc9202-f7d7-4650-b534-23e491f541ce"
      },
      "source": [
        "# C'est juste une visualisation du graphe\n",
        "# Si ça ne marche pas, ce n'ai pas grave\n",
        "try:\n",
        "    from IPython.display import SVG\n",
        "    from graphviz import Source\n",
        "    from IPython.display import display\n",
        "    \n",
        "    graph = Source(id3_classifieur.graphviz())\n",
        "    display(SVG(graph.pipe(format='svg')))\n",
        "\n",
        "except ImportError:\n",
        "    print(\"il faut installer graphviz\")"
      ],
      "execution_count": null,
      "outputs": [
        {
          "output_type": "display_data",
          "data": {
            "text/plain": [
              "<IPython.core.display.SVG object>"
            ],
            "image/svg+xml": "<svg height=\"252pt\" viewBox=\"0.00 0.00 457.00 252.00\" width=\"457pt\" xmlns=\"http://www.w3.org/2000/svg\" xmlns:xlink=\"http://www.w3.org/1999/xlink\">\n<g class=\"graph\" id=\"graph0\" transform=\"scale(1 1) rotate(0) translate(4 248)\">\n<title>Tree</title>\n<polygon fill=\"#ffffff\" points=\"-4,4 -4,-248 453,-248 453,4 -4,4\" stroke=\"transparent\"/>\n<!-- N0 -->\n<g class=\"node\" id=\"node1\">\n<title>N0</title>\n<polygon fill=\"none\" points=\"314,-244 135,-244 135,-191 314,-191 314,-244\" stroke=\"#000000\"/>\n<text fill=\"#000000\" font-family=\"Times,serif\" font-size=\"14.00\" text-anchor=\"middle\" x=\"224.5\" y=\"-228.8\">temps</text>\n<text fill=\"#000000\" font-family=\"Times,serif\" font-size=\"14.00\" text-anchor=\"middle\" x=\"224.5\" y=\"-213.8\">H = 0.9402859586706309</text>\n<text fill=\"#000000\" font-family=\"Times,serif\" font-size=\"14.00\" text-anchor=\"middle\" x=\"224.5\" y=\"-198.8\">IG = 0.2467498197744391</text>\n</g>\n<!-- N1 -->\n<g class=\"node\" id=\"node2\">\n<title>N1</title>\n<polygon fill=\"none\" points=\"179,-140 0,-140 0,-87 179,-87 179,-140\" stroke=\"#000000\"/>\n<text fill=\"#000000\" font-family=\"Times,serif\" font-size=\"14.00\" text-anchor=\"middle\" x=\"89.5\" y=\"-124.8\">humidite</text>\n<text fill=\"#000000\" font-family=\"Times,serif\" font-size=\"14.00\" text-anchor=\"middle\" x=\"89.5\" y=\"-109.8\">H = 0.9709505944546686</text>\n<text fill=\"#000000\" font-family=\"Times,serif\" font-size=\"14.00\" text-anchor=\"middle\" x=\"89.5\" y=\"-94.8\">IG = 0.9709505944546686</text>\n</g>\n<!-- N0&#45;&gt;N1 -->\n<g class=\"edge\" id=\"edge3\">\n<title>N0-&gt;N1</title>\n<path d=\"M190.0845,-190.9873C172.5278,-177.4621 151.0038,-160.8807 132.3782,-146.5321\" fill=\"none\" stroke=\"#000000\"/>\n<polygon fill=\"#000000\" points=\"134.3799,-143.656 124.3221,-140.3259 130.108,-149.2014 134.3799,-143.656\" stroke=\"#000000\"/>\n<text fill=\"#000000\" font-family=\"Times,serif\" font-size=\"14.00\" text-anchor=\"middle\" x=\"190.5\" y=\"-161.8\">ensoleile</text>\n</g>\n<!-- N4 -->\n<g class=\"node\" id=\"node5\">\n<title>N4</title>\n<ellipse cx=\"224.5\" cy=\"-113.5\" fill=\"none\" rx=\"27\" ry=\"18\" stroke=\"#000000\"/>\n<text fill=\"#000000\" font-family=\"Times,serif\" font-size=\"14.00\" text-anchor=\"middle\" x=\"224.5\" y=\"-109.8\">oui</text>\n</g>\n<!-- N0&#45;&gt;N4 -->\n<g class=\"edge\" id=\"edge4\">\n<title>N0-&gt;N4</title>\n<path d=\"M224.5,-190.9873C224.5,-176.0719 224.5,-157.4395 224.5,-142.1839\" fill=\"none\" stroke=\"#000000\"/>\n<polygon fill=\"#000000\" points=\"228.0001,-141.7735 224.5,-131.7735 221.0001,-141.7736 228.0001,-141.7735\" stroke=\"#000000\"/>\n<text fill=\"#000000\" font-family=\"Times,serif\" font-size=\"14.00\" text-anchor=\"middle\" x=\"249.5\" y=\"-161.8\">nuageux</text>\n</g>\n<!-- N5 -->\n<g class=\"node\" id=\"node6\">\n<title>N5</title>\n<polygon fill=\"none\" points=\"449,-140 270,-140 270,-87 449,-87 449,-140\" stroke=\"#000000\"/>\n<text fill=\"#000000\" font-family=\"Times,serif\" font-size=\"14.00\" text-anchor=\"middle\" x=\"359.5\" y=\"-124.8\">vent</text>\n<text fill=\"#000000\" font-family=\"Times,serif\" font-size=\"14.00\" text-anchor=\"middle\" x=\"359.5\" y=\"-109.8\">H = 0.9709505944546686</text>\n<text fill=\"#000000\" font-family=\"Times,serif\" font-size=\"14.00\" text-anchor=\"middle\" x=\"359.5\" y=\"-94.8\">IG = 0.9709505944546686</text>\n</g>\n<!-- N0&#45;&gt;N5 -->\n<g class=\"edge\" id=\"edge7\">\n<title>N0-&gt;N5</title>\n<path d=\"M258.9155,-190.9873C276.4722,-177.4621 297.9962,-160.8807 316.6218,-146.5321\" fill=\"none\" stroke=\"#000000\"/>\n<polygon fill=\"#000000\" points=\"318.892,-149.2014 324.6779,-140.3259 314.6201,-143.656 318.892,-149.2014\" stroke=\"#000000\"/>\n<text fill=\"#000000\" font-family=\"Times,serif\" font-size=\"14.00\" text-anchor=\"middle\" x=\"326.5\" y=\"-161.8\">pluvieux</text>\n</g>\n<!-- N2 -->\n<g class=\"node\" id=\"node3\">\n<title>N2</title>\n<ellipse cx=\"53.5\" cy=\"-18\" fill=\"none\" rx=\"27\" ry=\"18\" stroke=\"#000000\"/>\n<text fill=\"#000000\" font-family=\"Times,serif\" font-size=\"14.00\" text-anchor=\"middle\" x=\"53.5\" y=\"-14.3\">non</text>\n</g>\n<!-- N1&#45;&gt;N2 -->\n<g class=\"edge\" id=\"edge1\">\n<title>N1-&gt;N2</title>\n<path d=\"M79.2159,-86.6876C76.9922,-80.86 74.6603,-74.726 72.5,-69 69.5451,-61.1679 66.3599,-52.6488 63.4577,-44.8561\" fill=\"none\" stroke=\"#000000\"/>\n<polygon fill=\"#000000\" points=\"66.7373,-43.6335 59.9715,-35.4803 60.1762,-46.0732 66.7373,-43.6335\" stroke=\"#000000\"/>\n<text fill=\"#000000\" font-family=\"Times,serif\" font-size=\"14.00\" text-anchor=\"middle\" x=\"88\" y=\"-57.8\">haute</text>\n</g>\n<!-- N3 -->\n<g class=\"node\" id=\"node4\">\n<title>N3</title>\n<ellipse cx=\"125.5\" cy=\"-18\" fill=\"none\" rx=\"27\" ry=\"18\" stroke=\"#000000\"/>\n<text fill=\"#000000\" font-family=\"Times,serif\" font-size=\"14.00\" text-anchor=\"middle\" x=\"125.5\" y=\"-14.3\">oui</text>\n</g>\n<!-- N1&#45;&gt;N3 -->\n<g class=\"edge\" id=\"edge2\">\n<title>N1-&gt;N3</title>\n<path d=\"M99.528,-86.8979C104.4354,-73.8798 110.3334,-58.2336 115.2678,-45.1438\" fill=\"none\" stroke=\"#000000\"/>\n<polygon fill=\"#000000\" points=\"118.5686,-46.3099 118.8209,-35.7181 112.0185,-43.8407 118.5686,-46.3099\" stroke=\"#000000\"/>\n<text fill=\"#000000\" font-family=\"Times,serif\" font-size=\"14.00\" text-anchor=\"middle\" x=\"136\" y=\"-57.8\">normale</text>\n</g>\n<!-- N6 -->\n<g class=\"node\" id=\"node7\">\n<title>N6</title>\n<ellipse cx=\"323.5\" cy=\"-18\" fill=\"none\" rx=\"27\" ry=\"18\" stroke=\"#000000\"/>\n<text fill=\"#000000\" font-family=\"Times,serif\" font-size=\"14.00\" text-anchor=\"middle\" x=\"323.5\" y=\"-14.3\">oui</text>\n</g>\n<!-- N5&#45;&gt;N6 -->\n<g class=\"edge\" id=\"edge5\">\n<title>N5-&gt;N6</title>\n<path d=\"M349.472,-86.8979C344.5646,-73.8798 338.6666,-58.2336 333.7322,-45.1438\" fill=\"none\" stroke=\"#000000\"/>\n<polygon fill=\"#000000\" points=\"336.9815,-43.8407 330.1791,-35.7181 330.4314,-46.3099 336.9815,-43.8407\" stroke=\"#000000\"/>\n<text fill=\"#000000\" font-family=\"Times,serif\" font-size=\"14.00\" text-anchor=\"middle\" x=\"355\" y=\"-57.8\">non</text>\n</g>\n<!-- N7 -->\n<g class=\"node\" id=\"node8\">\n<title>N7</title>\n<ellipse cx=\"395.5\" cy=\"-18\" fill=\"none\" rx=\"27\" ry=\"18\" stroke=\"#000000\"/>\n<text fill=\"#000000\" font-family=\"Times,serif\" font-size=\"14.00\" text-anchor=\"middle\" x=\"395.5\" y=\"-14.3\">non</text>\n</g>\n<!-- N5&#45;&gt;N7 -->\n<g class=\"edge\" id=\"edge6\">\n<title>N5-&gt;N7</title>\n<path d=\"M369.528,-86.8979C374.4354,-73.8798 380.3334,-58.2336 385.2678,-45.1438\" fill=\"none\" stroke=\"#000000\"/>\n<polygon fill=\"#000000\" points=\"388.5686,-46.3099 388.8209,-35.7181 382.0185,-43.8407 388.5686,-46.3099\" stroke=\"#000000\"/>\n<text fill=\"#000000\" font-family=\"Times,serif\" font-size=\"14.00\" text-anchor=\"middle\" x=\"391\" y=\"-57.8\">oui</text>\n</g>\n</g>\n</svg>"
          },
          "metadata": {
            "tags": []
          }
        }
      ]
    },
    {
      "cell_type": "markdown",
      "metadata": {
        "id": "LJ8Q-ZaobRne"
      },
      "source": [
        "### I.2. CART\n",
        "\n",
        "Ici, on va implémenter l'algorithme CART pour la classification avec des caractéristiques numériques. On va utiliser le dataset \"jouer (numériques)\". \n"
      ]
    },
    {
      "cell_type": "code",
      "metadata": {
        "colab": {
          "base_uri": "https://localhost:8080/",
          "height": 206
        },
        "id": "wdGCQlA3bRne",
        "outputId": "42b84158-0a39-45f4-b239-c60a91de91d9"
      },
      "source": [
        "njouer_data = pd.read_csv(\"datasets/jouer_num.csv\")\n",
        "X_njouer = njouer_data.iloc[:, :-1].values # Premières colonnes \n",
        "Y_njouer = njouer_data.iloc[:,-1].values # Dernière colonne \n",
        "njouer_data.head()"
      ],
      "execution_count": null,
      "outputs": [
        {
          "output_type": "execute_result",
          "data": {
            "text/html": [
              "<div>\n",
              "<style scoped>\n",
              "    .dataframe tbody tr th:only-of-type {\n",
              "        vertical-align: middle;\n",
              "    }\n",
              "\n",
              "    .dataframe tbody tr th {\n",
              "        vertical-align: top;\n",
              "    }\n",
              "\n",
              "    .dataframe thead th {\n",
              "        text-align: right;\n",
              "    }\n",
              "</style>\n",
              "<table border=\"1\" class=\"dataframe\">\n",
              "  <thead>\n",
              "    <tr style=\"text-align: right;\">\n",
              "      <th></th>\n",
              "      <th>temperature</th>\n",
              "      <th>humidite</th>\n",
              "      <th>vent</th>\n",
              "      <th>jouer</th>\n",
              "    </tr>\n",
              "  </thead>\n",
              "  <tbody>\n",
              "    <tr>\n",
              "      <th>0</th>\n",
              "      <td>30</td>\n",
              "      <td>85</td>\n",
              "      <td>0</td>\n",
              "      <td>non</td>\n",
              "    </tr>\n",
              "    <tr>\n",
              "      <th>1</th>\n",
              "      <td>27</td>\n",
              "      <td>90</td>\n",
              "      <td>1</td>\n",
              "      <td>non</td>\n",
              "    </tr>\n",
              "    <tr>\n",
              "      <th>2</th>\n",
              "      <td>28</td>\n",
              "      <td>78</td>\n",
              "      <td>0</td>\n",
              "      <td>oui</td>\n",
              "    </tr>\n",
              "    <tr>\n",
              "      <th>3</th>\n",
              "      <td>21</td>\n",
              "      <td>96</td>\n",
              "      <td>0</td>\n",
              "      <td>oui</td>\n",
              "    </tr>\n",
              "    <tr>\n",
              "      <th>4</th>\n",
              "      <td>20</td>\n",
              "      <td>80</td>\n",
              "      <td>0</td>\n",
              "      <td>oui</td>\n",
              "    </tr>\n",
              "  </tbody>\n",
              "</table>\n",
              "</div>"
            ],
            "text/plain": [
              "   temperature  humidite  vent jouer\n",
              "0           30        85     0   non\n",
              "1           27        90     1   non\n",
              "2           28        78     0   oui\n",
              "3           21        96     0   oui\n",
              "4           20        80     0   oui"
            ]
          },
          "metadata": {
            "tags": []
          },
          "execution_count": 23
        }
      ]
    },
    {
      "cell_type": "markdown",
      "metadata": {
        "id": "6Z4QF28AbRnf"
      },
      "source": [
        "#### I.2.1. Index de diversité de Gini\n",
        "\n",
        "Dans le cas de classement, CART utilise l'indexe de diversité Gini pour mesurer l'erreur de classification.\n",
        "Un index de 0 représente la meilleure division; \n",
        "\n",
        "Etant donné : \n",
        "- $S$ liste des valeurs  \n",
        "- $V$ ensemble des valeurs uniques de $S$  (vocabulaire)\n",
        "\n",
        "L'index de diversité  $Gini(S)$ est calculée comme suit : \n",
        "$$Gini(S) = \\sum\\limits_{v \\in V} p(v/S) (1-p(v/S)) = 1 - \\sum\\limits_{v \\in V} p(v/S)^2 $$"
      ]
    },
    {
      "cell_type": "code",
      "metadata": {
        "colab": {
          "base_uri": "https://localhost:8080/"
        },
        "id": "ZNFWnYzpbRnf",
        "outputId": "14ec48d2-6558-4f56-9c28-9843cd92266d"
      },
      "source": [
        "# TODO compléter la fonction Gini\n",
        "def Gini(S):  \n",
        "    V = np.unique(S)\n",
        "    gini = 1\n",
        "    # Compléter ici\n",
        "    p=np.array([P(S,v)**2 for v in V])\n",
        "    sum=np.sum(p,axis=0)\n",
        "    gini-=sum\n",
        "    return gini \n",
        "\n",
        "#=====================================================================\n",
        "# TEST UNITAIRE\n",
        "#=====================================================================\n",
        "# Resultat : 0.4591836734693877\n",
        "#---------------------------------------------------------------------\n",
        "\n",
        "Gini(Y_njouer)"
      ],
      "execution_count": null,
      "outputs": [
        {
          "output_type": "execute_result",
          "data": {
            "text/plain": [
              "0.4591836734693877"
            ]
          },
          "metadata": {
            "tags": []
          },
          "execution_count": 26
        }
      ]
    },
    {
      "cell_type": "markdown",
      "metadata": {
        "id": "9ri34Js0bRng"
      },
      "source": [
        "#### I.2.2. Division d'un ensemble\n",
        "\n",
        "**Rien à programmer ici**\n",
        "\n",
        "Ici, on essaye de diviser la liste des prédictions (classes) $Y$ selon une valeur donnée $v$ d'un attribut (caractéristique, colonne) $A$ sur deux listes :\n",
        "- $Y_G$ : une liste contenant les éléments de $Y$ où $A > v$\n",
        "- $Y_D$ : une liste contenant les éléments de $Y$ où $A \\le v$\n"
      ]
    },
    {
      "cell_type": "code",
      "metadata": {
        "colab": {
          "base_uri": "https://localhost:8080/"
        },
        "id": "Y9W8LZLsbRng",
        "outputId": "ea566666-c725-4fd5-d72f-48e90286532b"
      },
      "source": [
        "def diviser_CART(Y, A, v):\n",
        "    msk = A > v\n",
        "    return Y[msk], Y[~msk]\n",
        "\n",
        "#=====================================================================\n",
        "# TEST UNITAIRE\n",
        "#=====================================================================\n",
        "# Resultat : \n",
        "# (array(['non', 'non', 'oui', 'oui', 'non', 'oui', 'oui', 'oui', 'oui',\n",
        "#         'oui', 'non'], dtype=object),\n",
        "#  array(['oui', 'non', 'oui'], dtype=object))\n",
        "#---------------------------------------------------------------------\n",
        "\n",
        "diviser_CART(Y_njouer, X_njouer[:,0], 20)"
      ],
      "execution_count": null,
      "outputs": [
        {
          "output_type": "execute_result",
          "data": {
            "text/plain": [
              "(array(['non', 'non', 'oui', 'oui', 'non', 'oui', 'oui', 'oui', 'oui',\n",
              "        'oui', 'non'], dtype=object),\n",
              " array(['oui', 'non', 'oui'], dtype=object))"
            ]
          },
          "metadata": {
            "tags": []
          },
          "execution_count": 27
        }
      ]
    },
    {
      "cell_type": "markdown",
      "metadata": {
        "id": "keAMztFsbRnh"
      },
      "source": [
        "#### I.2.3. Diversité Gini de la division\n",
        "\n",
        "Etant donné : \n",
        "- **Y** : une liste des prédictions\n",
        "- **V** : les différentes valeurs de Y (les classes\n",
        "- S_G, G_D : sous ensembles gauche et droit\n",
        "- $|S| = |S_G| + |S_D|$\n",
        "\n",
        "La diversité Gini de la division : \n",
        "\n",
        "$$Gini_{div}(S_G, S_D) = \\frac{|S_G|}{|S|} Gini(S_G) + \\frac{|S_D|}{|S|} Gini(S_D)$$\n"
      ]
    },
    {
      "cell_type": "code",
      "metadata": {
        "colab": {
          "base_uri": "https://localhost:8080/"
        },
        "id": "iZzsA8ZFbRnh",
        "outputId": "fc861aba-b364-442a-86be-8dd54a30765a"
      },
      "source": [
        "# TODO compléter la fonction diversité gini de la division\n",
        "def Gini_div(S_G, S_D): \n",
        "    S_len = float(len(S_G) + len(S_D)) \n",
        "    # Compléter ici\n",
        "    Ginid=(len(S_G)/S_len)*Gini(S_G)+(len(S_D)/S_len)*Gini(S_D)\n",
        "    return Ginid\n",
        "\n",
        "#=====================================================================\n",
        "# TEST UNITAIRE\n",
        "#=====================================================================\n",
        "# Resultat : 0.4588744588744589\n",
        "#---------------------------------------------------------------------\n",
        "\n",
        "S_G, S_D = diviser_CART(Y_njouer, X_njouer[:, 0], 20)\n",
        "Gini_div(S_G, S_D)"
      ],
      "execution_count": null,
      "outputs": [
        {
          "output_type": "execute_result",
          "data": {
            "text/plain": [
              "0.4588744588744589"
            ]
          },
          "metadata": {
            "tags": []
          },
          "execution_count": 54
        }
      ]
    },
    {
      "cell_type": "markdown",
      "metadata": {
        "id": "I0DEe1gZbRni"
      },
      "source": [
        "#### I.2.4. Choix de l'attribut et la valeur de division CART\n",
        "\n",
        "L'algorithme\n",
        "- Pour chaque ccaractéristique $X_j$ \n",
        "   - Pour chaque valeur $v$ appartennant aux valeurs uniques de $X_j$\n",
        "       1. Diviser $Y$ en se basant sur la valeur $v$ et celles de $X_j$\n",
        "       1. Calculer Gini de cette division \n",
        "       1. Garder l'indice **jj** de la caractéristique qui minimise Gini\n",
        "       1. Garder Gini minimale **gini_jj**\n",
        "       1. Garder la valeur de dévision **v_jj**\n",
        "       "
      ]
    },
    {
      "cell_type": "code",
      "metadata": {
        "colab": {
          "base_uri": "https://localhost:8080/"
        },
        "id": "ukx7FqdBbRni",
        "outputId": "3c27fd72-369e-4e3f-f41b-ad4a88383c40"
      },
      "source": [
        "# TODO compléter la fonction du choix de l'attribut et la valeur de division CART\n",
        "def choisir_division_CART(X, Y): \n",
        "    jj = -1\n",
        "    gini_jj = 1.0\n",
        "    v_jj = -1.0\n",
        "    # Compléter ici\n",
        "    Ginis=[]\n",
        "    V=[np.unique(X[:,i]) for i in range(0,X.shape[1])]\n",
        "    print(V)\n",
        "    for i in range(0,X.shape[1]):\n",
        "      for v in V[i]:\n",
        "       \n",
        "        Ginis.append((i,v,Gini_div(*diviser_CART(Y,X[:,i],v))))\n",
        "\n",
        "    \n",
        "    \n",
        "    \n",
        "    j=np.argmin([G[2] for G in Ginis])\n",
        "    jj=Ginis[j][0]\n",
        "    gini_jj=Ginis[j][2]\n",
        "    v_jj=Ginis[j][1]\n",
        "    return jj, gini_jj, v_jj\n",
        "\n",
        "#=====================================================================\n",
        "# TEST UNITAIRE\n",
        "#=====================================================================\n",
        "# Resultat : (1, 0.3936507936507937, 80)\n",
        "#---------------------------------------------------------------------\n",
        "\n",
        "choisir_division_CART(X_njouer, Y_njouer)"
      ],
      "execution_count": null,
      "outputs": [
        {
          "output_type": "stream",
          "text": [
            "[array([18, 20, 21, 22, 24, 27, 28, 30]), array([65, 70, 75, 78, 80, 85, 90, 95, 96]), array([0, 1])]\n"
          ],
          "name": "stdout"
        },
        {
          "output_type": "execute_result",
          "data": {
            "text/plain": [
              "(1, 0.3936507936507937, 80)"
            ]
          },
          "metadata": {
            "tags": []
          },
          "execution_count": 73
        }
      ]
    },
    {
      "cell_type": "markdown",
      "metadata": {
        "id": "cFIwZOj5bRnj"
      },
      "source": [
        "#### I.2.5. Arrêt de division CART\n",
        "\n",
        "**Rien à programmer ici** \n",
        "\n",
        "On va utiliser la même fonction que celle de ID3. Mais, pour être consistant, on va seulement renomer la fonction et passer Gini à la place de l'entropie."
      ]
    },
    {
      "cell_type": "code",
      "metadata": {
        "colab": {
          "base_uri": "https://localhost:8080/"
        },
        "id": "Qhon4_AkbRnj",
        "outputId": "a18bf476-c7c2-46bf-daf0-8f9b10cff99b"
      },
      "source": [
        "arreter_CART = arreter_ID3\n",
        "\n",
        "#=====================================================================\n",
        "# TEST UNITAIRE\n",
        "#=====================================================================\n",
        "# Resultat : ('oui', 'non', None)\n",
        "#---------------------------------------------------------------------\n",
        "\n",
        "Y_t1 = np.array([\"oui\", \"oui\", \"oui\"])\n",
        "Y_t2 = np.array([\"oui\", \"non\", \"non\"])\n",
        "arreter_CART(Y_t1, H(Y_t1), 2), arreter_CART(Y_t2, H(Y_t2), 4), arreter_CART(Y_t2, H(Y_t2), 2)"
      ],
      "execution_count": null,
      "outputs": [
        {
          "output_type": "execute_result",
          "data": {
            "text/plain": [
              "('oui', 'non', None)"
            ]
          },
          "metadata": {
            "tags": []
          },
          "execution_count": 74
        }
      ]
    },
    {
      "cell_type": "markdown",
      "metadata": {
        "id": "RaN2cYgFbRnk"
      },
      "source": [
        "#### I.2.6. Création de l'arbre\n",
        "\n",
        "**Rien à programmer ici**"
      ]
    },
    {
      "cell_type": "code",
      "metadata": {
        "colab": {
          "base_uri": "https://localhost:8080/"
        },
        "id": "6cMMG4ZPbRnk",
        "outputId": "6d19adee-771d-427c-f698-ccc6704f1cfa"
      },
      "source": [
        "# Comme Noeud, mais il faut changer un peu, puisqu'on teste sur des \n",
        "# valeurs numériques aussi\n",
        "# Le code sera plus utilisable si on crée une classe commune et on hérite\n",
        "# Mais, je n'ai pas le temps pour tout ça (DEAL WITH IT)\n",
        "class NoeudBin(object): \n",
        "    \n",
        "    nbr = 0\n",
        "    \n",
        "    def __init__(self, num, val, gini, profondeur): \n",
        "        self.num = num # le numéro du caractéristique de dévision dans X\n",
        "        self.val = val\n",
        "        self.gini = gini # le Gini de division\n",
        "        self.pr = profondeur # la profondeur du noeud\n",
        "        self.fils = [] # les fils ; un tableau de deux noeuds: S_G, S_D\n",
        "        self.cls = \"\" # la classe si ce noeud est final (s'il n'y a pas de fils)\n",
        "        self.indent = \"    \" # indentation lorsqu'on génère le code\n",
        "    \n",
        "    # Cette fonction est pour transformer le noeud à une string\n",
        "    #Ici, nous avons redéfini cette fonction afin qu'elle écrive l'arbre \n",
        "    #sous form d'un algorithme ; c'est un parser \n",
        "    def __str__(self):\n",
        "        \n",
        "        indent = self.indent * self.pr # indentation : esthetique\n",
        "        \n",
        "        # s'il n'y a pas de fils, le noeud est terminal ; on imprime la classe\n",
        "        if (len(self.fils)==0):\n",
        "            return indent + 'Y est \"' + self.cls + '\"\\n'\n",
        "         \n",
        "        prefix = ' > '\n",
        "        suffix = ''\n",
        "        \n",
        "        # s'il y a des fils, on boucle sur les fils et on imprime des SI ... ALORS SINON\n",
        "        res = \"\"\n",
        "        res += indent + 'Si X[' + str(self.num) + '] ' + prefix + str(self.val) + suffix + ' Alors\\n' + str(self.fils[0])\n",
        "        res += indent + 'Sinon\\n' + str(self.fils[1])\n",
        "        return res\n",
        "    \n",
        "    # predire un échantillon\n",
        "    def predire(self, x): \n",
        "        \n",
        "        # Si le noeud est final, il rend sa classe \n",
        "        if (len(self.fils)==0):\n",
        "            return self.cls\n",
        "        \n",
        "        # sinon\n",
        "        if x[self.num] > self.val:\n",
        "            return self.fils[0].predire(x)\n",
        "        return self.fils[1].predire(x)\n",
        "\n",
        "    \n",
        "    # générer un code pour graphviz\n",
        "    def graphviz(self): \n",
        "        \n",
        "        nid = 'N' + str(NoeudBin.nbr)\n",
        "        NoeudBin.nbr += 1\n",
        "        \n",
        "        # Si le noeud est final, \n",
        "        if (len(self.fils)==0):\n",
        "            return nid, nid + '[label=\"' + self.cls + '\" shape=ellipse];\\n'\n",
        "        \n",
        "        # Sinon, \n",
        "        # s'il y a des fils, on boucle sur les fils et on imprime des SI ... ALORS\n",
        "        prefix = '] > '\n",
        "        res = nid + '[label=\"X[' + str(self.num) + prefix + str(self.val) + '\\\\n'\n",
        "        res += 'Gini = ' + str(self.gini) + '\"];\\n'\n",
        "        vid_G, code_G = self.fils[0].graphviz()\n",
        "        vid_D, code_D = self.fils[1].graphviz()\n",
        "        \n",
        "        res += code_G + code_D\n",
        "        res += nid + ' -> ' + vid_G + ' [label=\"Vrai\"];\\n'\n",
        "        res += nid + ' -> ' + vid_D + ' [label=\"Faux\"];\\n'\n",
        "        return nid, res\n",
        "\n",
        "# créer l'arbre de décision à partir d'un ensemble X et Y\n",
        "def entrainer_CART(X, Y, profondeur=0, nbr_min=0): \n",
        "    \n",
        "    # Chercher le meilleur caractéristique de X pour diviser Y\n",
        "    jj, gini_jj, v_jj = choisir_division_CART(X, Y)\n",
        "    # Créer un noeud\n",
        "    noeud = NoeudBin(jj, v_jj, gini_jj, profondeur)\n",
        "    # Si l'entropie est 0 donc le noeud est terminal, élagage\n",
        "    \n",
        "    cls = arreter_CART(Y, gini_jj, nbr_min)\n",
        "    if cls:\n",
        "        noeud.cls = cls # la classe du noeud\n",
        "        return noeud # retourner le noeud \n",
        "     \n",
        "    \n",
        "    # Sinon, si le noeud n'est pas terminal, on crée ces fils\n",
        "    profondeur += 1 # la profondeur de ces fils\n",
        "    # création des deux fils\n",
        "    \n",
        "    msk = X[:, jj] > v_jj\n",
        "    \n",
        "    X_G = X[msk]\n",
        "    Y_G = Y[msk]\n",
        "    fils_G = entrainer_CART(X_G, Y_G, profondeur, nbr_min)\n",
        "    X_D = X[~msk]\n",
        "    Y_D = Y[~msk]\n",
        "    fils_D = entrainer_CART(X_D, Y_D, profondeur, nbr_min)\n",
        "    noeud.fils.append(fils_G)\n",
        "    noeud.fils.append(fils_D)\n",
        "    \n",
        "    return noeud\n",
        "\n",
        "arbre_njouer = entrainer_CART(X_njouer, Y_njouer)\n",
        "\n",
        "print(\"Le Code\")\n",
        "print(arbre_njouer)"
      ],
      "execution_count": null,
      "outputs": [
        {
          "output_type": "stream",
          "text": [
            "[array([18, 20, 21, 22, 24, 27, 28, 30]), array([65, 70, 75, 78, 80, 85, 90, 95, 96]), array([0, 1])]\n",
            "[array([21, 22, 27, 30]), array([85, 90, 95, 96]), array([0, 1])]\n",
            "[array([27, 30]), array([85, 90]), array([0, 1])]\n",
            "[array([21, 22]), array([90, 95, 96]), array([0, 1])]\n",
            "[array([22]), array([90, 95]), array([0, 1])]\n",
            "[array([21]), array([96]), array([0])]\n",
            "[array([18, 20, 21, 22, 24, 27, 28]), array([65, 70, 75, 78, 80]), array([0, 1])]\n",
            "[array([18, 22, 24]), array([65, 70, 80]), array([1])]\n",
            "[array([24]), array([70]), array([1])]\n",
            "[array([18, 22]), array([65, 70, 80]), array([1])]\n",
            "[array([20, 21, 24, 27, 28]), array([70, 75, 78, 80]), array([0])]\n",
            "Le Code\n",
            "Si X[1]  > 80 Alors\n",
            "    Si X[0]  > 22 Alors\n",
            "        Y est \"non\"\n",
            "    Sinon\n",
            "        Si X[0]  > 21 Alors\n",
            "            Y est \"non\"\n",
            "        Sinon\n",
            "            Y est \"oui\"\n",
            "Sinon\n",
            "    Si X[2]  > 0 Alors\n",
            "        Si X[0]  > 22 Alors\n",
            "            Y est \"oui\"\n",
            "        Sinon\n",
            "            Y est \"non\"\n",
            "    Sinon\n",
            "        Y est \"oui\"\n",
            "\n"
          ],
          "name": "stdout"
        }
      ]
    },
    {
      "cell_type": "markdown",
      "metadata": {
        "id": "HZ-FQLaybRnl"
      },
      "source": [
        "#### I.2.7. Regrouper le tous\n",
        "\n",
        "**Rien à programmer ici**"
      ]
    },
    {
      "cell_type": "code",
      "metadata": {
        "colab": {
          "base_uri": "https://localhost:8080/"
        },
        "id": "7nlje0wLbRnl",
        "outputId": "791dca99-5b4d-47c1-c69c-43a6793505af"
      },
      "source": [
        "class CART(object): \n",
        "    \n",
        "    def entrainer(self, X, Y, X_noms=[], Y_nom=\"\", nbr_min=0):\n",
        "        self.arbre = entrainer_CART(X, Y, 0, nbr_min)\n",
        "        code = str(self.arbre)\n",
        "        if len(Y_nom) > 0: \n",
        "            code = code.replace(\"Y\", Y_nom)\n",
        "        for i in range(len(X_noms)): \n",
        "            code = code.replace(\"X[\" + str(i) + \"]\", X_noms[i])\n",
        "        self.code = code\n",
        "        self.X_noms = X_noms\n",
        "    \n",
        "    def predire(self, X): \n",
        "        predictions = []\n",
        "        for i in range(len(X)): \n",
        "            predictions.append(self.arbre.predire(X[i, :]))\n",
        "        return predictions\n",
        "    \n",
        "    def graphviz(self): \n",
        "        nid, code = self.arbre.graphviz()\n",
        "        res = \"digraph Tree {\\n\"\n",
        "        res += \"node [shape=box] ;\"\n",
        "        for i in range(len(self.X_noms)): \n",
        "            code = code.replace(\"X[\" + str(i) + \"]\", self.X_noms[i])\n",
        "        res += code\n",
        "        res += \"}\"\n",
        "        return res\n",
        "\n",
        "cart_classifieur = CART()\n",
        "cart_classifieur.entrainer(X_njouer, Y_njouer, X_noms=[\"temperature\", \"humidite\", \"vent\"], Y_nom=\"jouer\")\n",
        "print(cart_classifieur.code)"
      ],
      "execution_count": null,
      "outputs": [
        {
          "output_type": "stream",
          "text": [
            "[array([18, 20, 21, 22, 24, 27, 28, 30]), array([65, 70, 75, 78, 80, 85, 90, 95, 96]), array([0, 1])]\n",
            "[array([21, 22, 27, 30]), array([85, 90, 95, 96]), array([0, 1])]\n",
            "[array([27, 30]), array([85, 90]), array([0, 1])]\n",
            "[array([21, 22]), array([90, 95, 96]), array([0, 1])]\n",
            "[array([22]), array([90, 95]), array([0, 1])]\n",
            "[array([21]), array([96]), array([0])]\n",
            "[array([18, 20, 21, 22, 24, 27, 28]), array([65, 70, 75, 78, 80]), array([0, 1])]\n",
            "[array([18, 22, 24]), array([65, 70, 80]), array([1])]\n",
            "[array([24]), array([70]), array([1])]\n",
            "[array([18, 22]), array([65, 70, 80]), array([1])]\n",
            "[array([20, 21, 24, 27, 28]), array([70, 75, 78, 80]), array([0])]\n",
            "Si humidite  > 80 Alors\n",
            "    Si temperature  > 22 Alors\n",
            "        jouer est \"non\"\n",
            "    Sinon\n",
            "        Si temperature  > 21 Alors\n",
            "            jouer est \"non\"\n",
            "        Sinon\n",
            "            jouer est \"oui\"\n",
            "Sinon\n",
            "    Si vent  > 0 Alors\n",
            "        Si temperature  > 22 Alors\n",
            "            jouer est \"oui\"\n",
            "        Sinon\n",
            "            jouer est \"non\"\n",
            "    Sinon\n",
            "        jouer est \"oui\"\n",
            "\n"
          ],
          "name": "stdout"
        }
      ]
    },
    {
      "cell_type": "code",
      "metadata": {
        "colab": {
          "base_uri": "https://localhost:8080/",
          "height": 436
        },
        "id": "D9Pass47bRnm",
        "outputId": "709a943c-c4aa-4155-ef16-fdae2378f4f0"
      },
      "source": [
        "# C'est juste une visualisation du graphe\n",
        "# Si ça ne marche pas, ce n'ai pas grave\n",
        "try:\n",
        "    from IPython.display import SVG\n",
        "    from graphviz import Source\n",
        "    from IPython.display import display\n",
        "    \n",
        "    graph = Source(cart_classifieur.graphviz())\n",
        "    display(SVG(graph.pipe(format='svg')))\n",
        "\n",
        "except ImportError:\n",
        "    print(\"il faut installer graphviz\")"
      ],
      "execution_count": null,
      "outputs": [
        {
          "output_type": "display_data",
          "data": {
            "text/plain": [
              "<IPython.core.display.SVG object>"
            ],
            "image/svg+xml": "<svg height=\"311pt\" viewBox=\"0.00 0.00 549.00 311.00\" width=\"549pt\" xmlns=\"http://www.w3.org/2000/svg\" xmlns:xlink=\"http://www.w3.org/1999/xlink\">\n<g class=\"graph\" id=\"graph0\" transform=\"scale(1 1) rotate(0) translate(4 307)\">\n<title>Tree</title>\n<polygon fill=\"#ffffff\" points=\"-4,4 -4,-307 545,-307 545,4 -4,4\" stroke=\"transparent\"/>\n<!-- N0 -->\n<g class=\"node\" id=\"node1\">\n<title>N0</title>\n<polygon fill=\"none\" points=\"363.5,-303 174.5,-303 174.5,-265 363.5,-265 363.5,-303\" stroke=\"#000000\"/>\n<text fill=\"#000000\" font-family=\"Times,serif\" font-size=\"14.00\" text-anchor=\"middle\" x=\"269\" y=\"-287.8\">humidite &gt; 80</text>\n<text fill=\"#000000\" font-family=\"Times,serif\" font-size=\"14.00\" text-anchor=\"middle\" x=\"269\" y=\"-272.8\">Gini = 0.3936507936507937</text>\n</g>\n<!-- N1 -->\n<g class=\"node\" id=\"node2\">\n<title>N1</title>\n<polygon fill=\"none\" points=\"262.5,-214 65.5,-214 65.5,-176 262.5,-176 262.5,-214\" stroke=\"#000000\"/>\n<text fill=\"#000000\" font-family=\"Times,serif\" font-size=\"14.00\" text-anchor=\"middle\" x=\"164\" y=\"-198.8\">temperature &gt; 22</text>\n<text fill=\"#000000\" font-family=\"Times,serif\" font-size=\"14.00\" text-anchor=\"middle\" x=\"164\" y=\"-183.8\">Gini = 0.26666666666666666</text>\n</g>\n<!-- N0&#45;&gt;N1 -->\n<g class=\"edge\" id=\"edge9\">\n<title>N0-&gt;N1</title>\n<path d=\"M246.4749,-264.9073C231.2501,-252.0025 210.9677,-234.8107 194.3265,-220.7053\" fill=\"none\" stroke=\"#000000\"/>\n<polygon fill=\"#000000\" points=\"196.3793,-217.8572 186.4879,-214.0612 191.8532,-223.1971 196.3793,-217.8572\" stroke=\"#000000\"/>\n<text fill=\"#000000\" font-family=\"Times,serif\" font-size=\"14.00\" text-anchor=\"middle\" x=\"235.5\" y=\"-235.8\">Vrai</text>\n</g>\n<!-- N6 -->\n<g class=\"node\" id=\"node7\">\n<title>N6</title>\n<polygon fill=\"none\" points=\"469.5,-214 280.5,-214 280.5,-176 469.5,-176 469.5,-214\" stroke=\"#000000\"/>\n<text fill=\"#000000\" font-family=\"Times,serif\" font-size=\"14.00\" text-anchor=\"middle\" x=\"375\" y=\"-198.8\">vent &gt; 0</text>\n<text fill=\"#000000\" font-family=\"Times,serif\" font-size=\"14.00\" text-anchor=\"middle\" x=\"375\" y=\"-183.8\">Gini = 0.2222222222222222</text>\n</g>\n<!-- N0&#45;&gt;N6 -->\n<g class=\"edge\" id=\"edge10\">\n<title>N0-&gt;N6</title>\n<path d=\"M291.7397,-264.9073C307.1094,-252.0025 327.585,-234.8107 344.3846,-220.7053\" fill=\"none\" stroke=\"#000000\"/>\n<polygon fill=\"#000000\" points=\"346.89,-223.1719 352.2979,-214.0612 342.3889,-217.8109 346.89,-223.1719\" stroke=\"#000000\"/>\n<text fill=\"#000000\" font-family=\"Times,serif\" font-size=\"14.00\" text-anchor=\"middle\" x=\"344\" y=\"-235.8\">Faux</text>\n</g>\n<!-- N2 -->\n<g class=\"node\" id=\"node3\">\n<title>N2</title>\n<ellipse cx=\"27\" cy=\"-106\" fill=\"none\" rx=\"27\" ry=\"18\" stroke=\"#000000\"/>\n<text fill=\"#000000\" font-family=\"Times,serif\" font-size=\"14.00\" text-anchor=\"middle\" x=\"27\" y=\"-102.3\">non</text>\n</g>\n<!-- N1&#45;&gt;N2 -->\n<g class=\"edge\" id=\"edge3\">\n<title>N1-&gt;N2</title>\n<path d=\"M134.6101,-175.9073C111.1496,-160.6665 78.4847,-139.4463 55.3123,-124.3927\" fill=\"none\" stroke=\"#000000\"/>\n<polygon fill=\"#000000\" points=\"56.9225,-121.265 46.6299,-118.7523 53.109,-127.1351 56.9225,-121.265\" stroke=\"#000000\"/>\n<text fill=\"#000000\" font-family=\"Times,serif\" font-size=\"14.00\" text-anchor=\"middle\" x=\"116.5\" y=\"-146.8\">Vrai</text>\n</g>\n<!-- N3 -->\n<g class=\"node\" id=\"node4\">\n<title>N3</title>\n<polygon fill=\"none\" points=\"261.5,-125 72.5,-125 72.5,-87 261.5,-87 261.5,-125\" stroke=\"#000000\"/>\n<text fill=\"#000000\" font-family=\"Times,serif\" font-size=\"14.00\" text-anchor=\"middle\" x=\"167\" y=\"-109.8\">temperature &gt; 21</text>\n<text fill=\"#000000\" font-family=\"Times,serif\" font-size=\"14.00\" text-anchor=\"middle\" x=\"167\" y=\"-94.8\">Gini = 0.3333333333333333</text>\n</g>\n<!-- N1&#45;&gt;N3 -->\n<g class=\"edge\" id=\"edge4\">\n<title>N1-&gt;N3</title>\n<path d=\"M164.651,-175.6883C165.048,-163.909 165.5634,-148.6187 166.0102,-135.3628\" fill=\"none\" stroke=\"#000000\"/>\n<polygon fill=\"#000000\" points=\"169.5113,-135.3863 166.3503,-125.274 162.5153,-135.1504 169.5113,-135.3863\" stroke=\"#000000\"/>\n<text fill=\"#000000\" font-family=\"Times,serif\" font-size=\"14.00\" text-anchor=\"middle\" x=\"181\" y=\"-146.8\">Faux</text>\n</g>\n<!-- N4 -->\n<g class=\"node\" id=\"node5\">\n<title>N4</title>\n<ellipse cx=\"126\" cy=\"-18\" fill=\"none\" rx=\"27\" ry=\"18\" stroke=\"#000000\"/>\n<text fill=\"#000000\" font-family=\"Times,serif\" font-size=\"14.00\" text-anchor=\"middle\" x=\"126\" y=\"-14.3\">non</text>\n</g>\n<!-- N3&#45;&gt;N4 -->\n<g class=\"edge\" id=\"edge1\">\n<title>N3-&gt;N4</title>\n<path d=\"M158.1036,-86.9053C152.3423,-74.5396 144.7578,-58.2606 138.4074,-44.6306\" fill=\"none\" stroke=\"#000000\"/>\n<polygon fill=\"#000000\" points=\"141.4411,-42.8542 134.0453,-35.2679 135.096,-45.8105 141.4411,-42.8542\" stroke=\"#000000\"/>\n<text fill=\"#000000\" font-family=\"Times,serif\" font-size=\"14.00\" text-anchor=\"middle\" x=\"161.5\" y=\"-57.8\">Vrai</text>\n</g>\n<!-- N5 -->\n<g class=\"node\" id=\"node6\">\n<title>N5</title>\n<ellipse cx=\"198\" cy=\"-18\" fill=\"none\" rx=\"27\" ry=\"18\" stroke=\"#000000\"/>\n<text fill=\"#000000\" font-family=\"Times,serif\" font-size=\"14.00\" text-anchor=\"middle\" x=\"198\" y=\"-14.3\">oui</text>\n</g>\n<!-- N3&#45;&gt;N5 -->\n<g class=\"edge\" id=\"edge2\">\n<title>N3-&gt;N5</title>\n<path d=\"M173.7265,-86.9053C178.012,-74.7402 183.6316,-58.7878 188.3843,-45.2961\" fill=\"none\" stroke=\"#000000\"/>\n<polygon fill=\"#000000\" points=\"191.7919,-46.1568 191.8134,-35.562 185.1896,-43.8309 191.7919,-46.1568\" stroke=\"#000000\"/>\n<text fill=\"#000000\" font-family=\"Times,serif\" font-size=\"14.00\" text-anchor=\"middle\" x=\"201\" y=\"-57.8\">Faux</text>\n</g>\n<!-- N7 -->\n<g class=\"node\" id=\"node8\">\n<title>N7</title>\n<polygon fill=\"none\" points=\"468.5,-125 279.5,-125 279.5,-87 468.5,-87 468.5,-125\" stroke=\"#000000\"/>\n<text fill=\"#000000\" font-family=\"Times,serif\" font-size=\"14.00\" text-anchor=\"middle\" x=\"374\" y=\"-109.8\">temperature &gt; 22</text>\n<text fill=\"#000000\" font-family=\"Times,serif\" font-size=\"14.00\" text-anchor=\"middle\" x=\"374\" y=\"-94.8\">Gini = 0.3333333333333333</text>\n</g>\n<!-- N6&#45;&gt;N7 -->\n<g class=\"edge\" id=\"edge7\">\n<title>N6-&gt;N7</title>\n<path d=\"M374.783,-175.6883C374.6507,-163.909 374.4789,-148.6187 374.3299,-135.3628\" fill=\"none\" stroke=\"#000000\"/>\n<polygon fill=\"#000000\" points=\"377.8288,-135.234 374.2166,-125.274 370.8292,-135.3127 377.8288,-135.234\" stroke=\"#000000\"/>\n<text fill=\"#000000\" font-family=\"Times,serif\" font-size=\"14.00\" text-anchor=\"middle\" x=\"387.5\" y=\"-146.8\">Vrai</text>\n</g>\n<!-- N10 -->\n<g class=\"node\" id=\"node11\">\n<title>N10</title>\n<ellipse cx=\"514\" cy=\"-106\" fill=\"none\" rx=\"27\" ry=\"18\" stroke=\"#000000\"/>\n<text fill=\"#000000\" font-family=\"Times,serif\" font-size=\"14.00\" text-anchor=\"middle\" x=\"514\" y=\"-102.3\">oui</text>\n</g>\n<!-- N6&#45;&gt;N10 -->\n<g class=\"edge\" id=\"edge8\">\n<title>N6-&gt;N10</title>\n<path d=\"M404.819,-175.9073C428.8687,-160.5085 462.4519,-139.0056 486.0025,-123.9264\" fill=\"none\" stroke=\"#000000\"/>\n<polygon fill=\"#000000\" points=\"487.9622,-126.8277 494.4965,-118.4878 484.1876,-120.9326 487.9622,-126.8277\" stroke=\"#000000\"/>\n<text fill=\"#000000\" font-family=\"Times,serif\" font-size=\"14.00\" text-anchor=\"middle\" x=\"468\" y=\"-146.8\">Faux</text>\n</g>\n<!-- N8 -->\n<g class=\"node\" id=\"node9\">\n<title>N8</title>\n<ellipse cx=\"338\" cy=\"-18\" fill=\"none\" rx=\"27\" ry=\"18\" stroke=\"#000000\"/>\n<text fill=\"#000000\" font-family=\"Times,serif\" font-size=\"14.00\" text-anchor=\"middle\" x=\"338\" y=\"-14.3\">oui</text>\n</g>\n<!-- N7&#45;&gt;N8 -->\n<g class=\"edge\" id=\"edge5\">\n<title>N7-&gt;N8</title>\n<path d=\"M366.1885,-86.9053C361.1631,-74.6209 354.5578,-58.4747 349.0045,-44.9\" fill=\"none\" stroke=\"#000000\"/>\n<polygon fill=\"#000000\" points=\"352.2103,-43.4922 345.1845,-35.562 345.7314,-46.1427 352.2103,-43.4922\" stroke=\"#000000\"/>\n<text fill=\"#000000\" font-family=\"Times,serif\" font-size=\"14.00\" text-anchor=\"middle\" x=\"371.5\" y=\"-57.8\">Vrai</text>\n</g>\n<!-- N9 -->\n<g class=\"node\" id=\"node10\">\n<title>N9</title>\n<ellipse cx=\"410\" cy=\"-18\" fill=\"none\" rx=\"27\" ry=\"18\" stroke=\"#000000\"/>\n<text fill=\"#000000\" font-family=\"Times,serif\" font-size=\"14.00\" text-anchor=\"middle\" x=\"410\" y=\"-14.3\">non</text>\n</g>\n<!-- N7&#45;&gt;N9 -->\n<g class=\"edge\" id=\"edge6\">\n<title>N7-&gt;N9</title>\n<path d=\"M381.8115,-86.9053C386.8369,-74.6209 393.4422,-58.4747 398.9955,-44.9\" fill=\"none\" stroke=\"#000000\"/>\n<polygon fill=\"#000000\" points=\"402.2686,-46.1427 402.8155,-35.562 395.7897,-43.4922 402.2686,-46.1427\" stroke=\"#000000\"/>\n<text fill=\"#000000\" font-family=\"Times,serif\" font-size=\"14.00\" text-anchor=\"middle\" x=\"411\" y=\"-57.8\">Faux</text>\n</g>\n</g>\n</svg>"
          },
          "metadata": {
            "tags": []
          }
        }
      ]
    },
    {
      "cell_type": "markdown",
      "metadata": {
        "id": "s7A6kggPbRnn"
      },
      "source": [
        "## II. Application et analyse\n",
        "\n",
        "On va utiliser le dataset [Cars Data](https://www.kaggle.com/abineshkumark/carsdata) pour classer les voitures en trois classes : US., Euroupe. ou Japan. "
      ]
    },
    {
      "cell_type": "code",
      "metadata": {
        "colab": {
          "base_uri": "https://localhost:8080/",
          "height": 206
        },
        "id": "P8sDW-YCbRnn",
        "outputId": "d47d544b-22db-4478-fe1b-7ad83c513863"
      },
      "source": [
        "# Lecture du dataset\n",
        "cars_data = pd.read_csv('datasets/cars.csv', skipinitialspace=True)\n",
        "# On a remarqué que le type de cette caractéristique n'est pas bien détecté\n",
        "cars_data[\"cubicinches\"] = pd.to_numeric(cars_data[\"cubicinches\"])\n",
        "# supprimer les valeurs absentes \n",
        "cars_data.dropna(inplace=True)\n",
        "# Yay! We did it! Voici les premières lignes du dataset\n",
        "cars_data.head()"
      ],
      "execution_count": null,
      "outputs": [
        {
          "output_type": "execute_result",
          "data": {
            "text/html": [
              "<div>\n",
              "<style scoped>\n",
              "    .dataframe tbody tr th:only-of-type {\n",
              "        vertical-align: middle;\n",
              "    }\n",
              "\n",
              "    .dataframe tbody tr th {\n",
              "        vertical-align: top;\n",
              "    }\n",
              "\n",
              "    .dataframe thead th {\n",
              "        text-align: right;\n",
              "    }\n",
              "</style>\n",
              "<table border=\"1\" class=\"dataframe\">\n",
              "  <thead>\n",
              "    <tr style=\"text-align: right;\">\n",
              "      <th></th>\n",
              "      <th>mpg</th>\n",
              "      <th>cylinders</th>\n",
              "      <th>cubicinches</th>\n",
              "      <th>hp</th>\n",
              "      <th>weightlbs</th>\n",
              "      <th>time-to-60</th>\n",
              "      <th>year</th>\n",
              "      <th>brand</th>\n",
              "    </tr>\n",
              "  </thead>\n",
              "  <tbody>\n",
              "    <tr>\n",
              "      <th>0</th>\n",
              "      <td>14.0</td>\n",
              "      <td>8</td>\n",
              "      <td>350.0</td>\n",
              "      <td>165</td>\n",
              "      <td>4209.0</td>\n",
              "      <td>12</td>\n",
              "      <td>1972</td>\n",
              "      <td>US.</td>\n",
              "    </tr>\n",
              "    <tr>\n",
              "      <th>1</th>\n",
              "      <td>31.9</td>\n",
              "      <td>4</td>\n",
              "      <td>89.0</td>\n",
              "      <td>71</td>\n",
              "      <td>1925.0</td>\n",
              "      <td>14</td>\n",
              "      <td>1980</td>\n",
              "      <td>Europe.</td>\n",
              "    </tr>\n",
              "    <tr>\n",
              "      <th>2</th>\n",
              "      <td>17.0</td>\n",
              "      <td>8</td>\n",
              "      <td>302.0</td>\n",
              "      <td>140</td>\n",
              "      <td>3449.0</td>\n",
              "      <td>11</td>\n",
              "      <td>1971</td>\n",
              "      <td>US.</td>\n",
              "    </tr>\n",
              "    <tr>\n",
              "      <th>3</th>\n",
              "      <td>15.0</td>\n",
              "      <td>8</td>\n",
              "      <td>400.0</td>\n",
              "      <td>150</td>\n",
              "      <td>3761.0</td>\n",
              "      <td>10</td>\n",
              "      <td>1971</td>\n",
              "      <td>US.</td>\n",
              "    </tr>\n",
              "    <tr>\n",
              "      <th>4</th>\n",
              "      <td>30.5</td>\n",
              "      <td>4</td>\n",
              "      <td>98.0</td>\n",
              "      <td>63</td>\n",
              "      <td>2051.0</td>\n",
              "      <td>17</td>\n",
              "      <td>1978</td>\n",
              "      <td>US.</td>\n",
              "    </tr>\n",
              "  </tbody>\n",
              "</table>\n",
              "</div>"
            ],
            "text/plain": [
              "    mpg  cylinders  cubicinches   hp  weightlbs  time-to-60  year    brand\n",
              "0  14.0          8        350.0  165     4209.0          12  1972      US.\n",
              "1  31.9          4         89.0   71     1925.0          14  1980  Europe.\n",
              "2  17.0          8        302.0  140     3449.0          11  1971      US.\n",
              "3  15.0          8        400.0  150     3761.0          10  1971      US.\n",
              "4  30.5          4         98.0   63     2051.0          17  1978      US."
            ]
          },
          "metadata": {
            "tags": []
          },
          "execution_count": 11
        }
      ]
    },
    {
      "cell_type": "code",
      "metadata": {
        "colab": {
          "base_uri": "https://localhost:8080/"
        },
        "id": "1pjfrTi5bRnn",
        "outputId": "294c5398-bb28-41ac-b98a-7cf92bdf462f"
      },
      "source": [
        "from sklearn.model_selection import train_test_split\n",
        "\n",
        "X_cars = cars_data.values[:, :-1]\n",
        "Y_cars = cars_data.values[:,-1]\n",
        "\n",
        "X_cars_train, X_cars_test, Y_cars_train, Y_cars_test = train_test_split(X_cars, Y_cars, test_size=0.2, random_state=0) \n",
        "\n",
        "X_cars_train.shape, X_cars_test.shape"
      ],
      "execution_count": null,
      "outputs": [
        {
          "output_type": "execute_result",
          "data": {
            "text/plain": [
              "((204, 7), (52, 7))"
            ]
          },
          "metadata": {
            "tags": []
          },
          "execution_count": 12
        }
      ]
    },
    {
      "cell_type": "markdown",
      "metadata": {
        "id": "pBrwD48qbRno"
      },
      "source": [
        "### II.1. Arbres de décision\n",
        "\n",
        "Dans l'implémentation Scikit-learn des arbres de décision (**DecisionTreeClassifier**), les caractéristiques sont permutées d'une façon aléatoire à chaque division. Ceci rendre l'arbre non déterministe. Pour arrêter ça, on utilise la proporiété **random_state=0**\n",
        "\n",
        "#### II.1.1. Critère de choix des caractéristiques\n",
        "\n",
        "Nous avons entraîné deux arbres de décision CART avec les critères de division : \n",
        "- Entropy\n",
        "- Gini\n",
        "\n",
        "**TODO : Analyser les résultats**\n",
        "- Que remarquez-vous concernant la structure des deux arbres : ENTOPY (à gauche) et GINI (à droit) ? La structure veut dire : la profendeur et le nombre des feuilles.\n",
        "- Justifier le temps d'entraînement et de test en se basant sur les deux algorithmes et les deux structures discutées.\n",
        "\n",
        "**Réponse**\n",
        "- on remarque que l'arbre avec ENTROPY (à gauche) a un profondeur 14 et un nombre de noeud de 60 alors que l'arbre avec GINI (à droit) a un profondeur 17 et un nombre de noeud de 63\n",
        "- **le temps d'entraînement** dépend de nombre de noeud c'est pour ca on a l'arbre avec ENTROPY qui a moins de noeud est plus rapide en  entraînement\n",
        ", **le temps de test** dépend de la profondeur c'est pour ca on a l'arbre avec ENTROPY qu' est moins profond (14 < 17) est plus rapide en test\n",
        " "
      ]
    },
    {
      "cell_type": "markdown",
      "metadata": {
        "id": "FiIFShAQ4oay"
      },
      "source": [
        ""
      ]
    },
    {
      "cell_type": "code",
      "metadata": {
        "id": "NJMEfdzv1mPd",
        "colab": {
          "base_uri": "https://localhost:8080/"
        },
        "outputId": "cdafdc75-ba0d-4c52-c388-88e847e77eb2"
      },
      "source": [
        "from sklearn.tree import DecisionTreeClassifier\n",
        "from sklearn.metrics import f1_score\n",
        "import timeit\n",
        "from sklearn import tree\n",
        "\n",
        "Xchoix_train = X_cars_train\n",
        "Ychoix_train = Y_cars_train\n",
        "Xchoix_test = X_cars_test\n",
        "Ychoix_test = Y_cars_test\n",
        "fnames = cars_data.columns\n",
        "\n",
        "#Xchoix_train = X_njouer[4:, :]\n",
        "#Ychoix_train = Y_njouer[4:]\n",
        "#Xchoix_test = X_njouer[:4, :]\n",
        "#Ychoix_test = Y_njouer[:4]\n",
        "#fnames = [\"temperature\", \"humidite\", \"vent\"]\n",
        "\n",
        "\n",
        "gini_stats = []\n",
        "entropy_stats = []\n",
        "gini_classifieur = DecisionTreeClassifier(criterion=\"gini\", random_state=0)\n",
        "entropy_classifieur = DecisionTreeClassifier(criterion=\"entropy\", random_state=0)\n",
        "\n",
        "# ============ GINI ====================\n",
        "# ............ Entraînement ............\n",
        "temps_debut = timeit.default_timer()\n",
        "gini_classifieur.fit(Xchoix_train, Ychoix_train)\n",
        "gini_stats.append(timeit.default_timer() - temps_debut)\n",
        "# ..... Evaluation entrainement ........\n",
        "gini_stats.append(f1_score(Ychoix_train, gini_classifieur.predict(Xchoix_train), average=\"micro\"))\n",
        "# ................ Test ................\n",
        "temps_debut = timeit.default_timer()\n",
        "Ychoix_pred = gini_classifieur.predict(Xchoix_test)\n",
        "gini_stats.append(timeit.default_timer() - temps_debut)\n",
        "# ........... Evaluation test ...........\n",
        "gini_stats.append(f1_score(Ychoix_test, Ychoix_pred, average=\"micro\"))\n",
        "\n",
        "# =========== Entropy ==================\n",
        "# ............ Entraînement ............\n",
        "temps_debut = timeit.default_timer()\n",
        "entropy_classifieur.fit(Xchoix_train, Ychoix_train)\n",
        "entropy_stats.append(timeit.default_timer() - temps_debut)\n",
        "# ..... Evaluation entrainement ........\n",
        "entropy_stats.append(f1_score(Ychoix_train, entropy_classifieur.predict(Xchoix_train), average=\"micro\"))\n",
        "# ................ Test ................\n",
        "temps_debut = timeit.default_timer()\n",
        "Ychoix_pred = entropy_classifieur.predict(Xchoix_test)\n",
        "entropy_stats.append(timeit.default_timer() - temps_debut)\n",
        "# ........... Evaluation test ...........\n",
        "entropy_stats.append(f1_score(Ychoix_test, Ychoix_pred, average=\"micro\"))\n",
        "\n",
        "print(\"Fini\")"
      ],
      "execution_count": null,
      "outputs": [
        {
          "output_type": "stream",
          "text": [
            "Fini\n"
          ],
          "name": "stdout"
        }
      ]
    },
    {
      "cell_type": "code",
      "metadata": {
        "colab": {
          "base_uri": "https://localhost:8080/",
          "height": 683
        },
        "id": "MFCC55xTbRnp",
        "outputId": "087252bc-c72c-4255-bc81-6289c77f5b56"
      },
      "source": [
        "fig, (ax1, ax2) = plt.subplots(1,2)\n",
        "fig.set_figwidth(20)\n",
        "fig.set_figheight(12)\n",
        "tree.plot_tree(entropy_classifieur, ax=ax1, feature_names=fnames, filled=True)\n",
        "tree.plot_tree(gini_classifieur, ax=ax2, feature_names=fnames, filled=True)\n",
        "plt.show()"
      ],
      "execution_count": null,
      "outputs": [
        {
          "output_type": "display_data",
          "data": {
            "image/png": "[encoded data removed]",
            "text/plain": [
              "<Figure size 1440x864 with 2 Axes>"
            ]
          },
          "metadata": {
            "tags": [],
            "needs_background": "light"
          }
        }
      ]
    },
    {
      "cell_type": "code",
      "metadata": {
        "colab": {
          "base_uri": "https://localhost:8080/",
          "height": 175
        },
        "id": "OtnYxs8XbRnp",
        "outputId": "d2e62142-3f79-4464-f0b3-5e3db921d2f7"
      },
      "source": [
        "pd.DataFrame({\n",
        "    \"Criteres\" : [\"Temps Entrainement\", \"F1 Entrainement\", \"Temps Test\", \"F1 Test\"],\n",
        "    \"Entropie\" : entropy_stats,\n",
        "    \"Gini\" : gini_stats\n",
        "})"
      ],
      "execution_count": null,
      "outputs": [
        {
          "output_type": "execute_result",
          "data": {
            "text/html": [
              "<div>\n",
              "<style scoped>\n",
              "    .dataframe tbody tr th:only-of-type {\n",
              "        vertical-align: middle;\n",
              "    }\n",
              "\n",
              "    .dataframe tbody tr th {\n",
              "        vertical-align: top;\n",
              "    }\n",
              "\n",
              "    .dataframe thead th {\n",
              "        text-align: right;\n",
              "    }\n",
              "</style>\n",
              "<table border=\"1\" class=\"dataframe\">\n",
              "  <thead>\n",
              "    <tr style=\"text-align: right;\">\n",
              "      <th></th>\n",
              "      <th>Criteres</th>\n",
              "      <th>Entropie</th>\n",
              "      <th>Gini</th>\n",
              "    </tr>\n",
              "  </thead>\n",
              "  <tbody>\n",
              "    <tr>\n",
              "      <th>0</th>\n",
              "      <td>Temps Entrainement</td>\n",
              "      <td>0.001633</td>\n",
              "      <td>0.001873</td>\n",
              "    </tr>\n",
              "    <tr>\n",
              "      <th>1</th>\n",
              "      <td>F1 Entrainement</td>\n",
              "      <td>1.000000</td>\n",
              "      <td>1.000000</td>\n",
              "    </tr>\n",
              "    <tr>\n",
              "      <th>2</th>\n",
              "      <td>Temps Test</td>\n",
              "      <td>0.000203</td>\n",
              "      <td>0.000248</td>\n",
              "    </tr>\n",
              "    <tr>\n",
              "      <th>3</th>\n",
              "      <td>F1 Test</td>\n",
              "      <td>0.826923</td>\n",
              "      <td>0.788462</td>\n",
              "    </tr>\n",
              "  </tbody>\n",
              "</table>\n",
              "</div>"
            ],
            "text/plain": [
              "             Criteres  Entropie      Gini\n",
              "0  Temps Entrainement  0.001633  0.001873\n",
              "1     F1 Entrainement  1.000000  1.000000\n",
              "2          Temps Test  0.000203  0.000248\n",
              "3             F1 Test  0.826923  0.788462"
            ]
          },
          "metadata": {
            "tags": []
          },
          "execution_count": 15
        }
      ]
    },
    {
      "cell_type": "markdown",
      "metadata": {
        "id": "j5W099s0bRnq"
      },
      "source": [
        "#### II.1.2. Profondeur maximale de l'arbre\n",
        "\n",
        "Pour chaque profondeur, on entraîne un modèle et on mesure sa convergence et sa performance en terme du score F1. \n",
        "\n",
        "**TODO : Analyser les résultats**\n",
        "- Que remarquez-vous ? (Est-ce que plus de profondeur veut dire le modèle va généraliser mieux)\n",
        "- Justifier\n",
        "\n",
        "**Réponse**\n",
        "- non ,plus de profondeur ne veut pas dire que le modèle va généraliser mieux, on le voit clairement  que le score d'entraînement augmente avec l'augmentation de profondeur jusqu'à arriver à un seuil alors que  le score de test augmente des fois et diminue dans d'autres\n",
        "- augmenter la profondeur de l'arbre va le permet de diviser bien les données d'entraînement et donc va augmenter le score d'entraînement mais cela va causer le sur-apprentissage ce qui affecte la capacité de modèle à généraliser "
      ]
    },
    {
      "cell_type": "code",
      "metadata": {
        "colab": {
          "base_uri": "https://localhost:8080/",
          "height": 279
        },
        "id": "CO97LHIqbRnq",
        "outputId": "3803d4a6-2c73-4856-ac1c-d742c90dfb6d"
      },
      "source": [
        "MAX_PROF = 40\n",
        "\n",
        "MAX_PROF_lst = range(1, MAX_PROF+1, 1)\n",
        "\n",
        "f1_train_pm = []\n",
        "f1_test_pm = []\n",
        "for max_prof in MAX_PROF_lst:\n",
        "    classifieur = DecisionTreeClassifier(random_state=0, max_depth=max_prof)\n",
        "    classifieur.fit(X_cars_train, Y_cars_train)\n",
        "    f1_train_pm.append(f1_score(Y_cars_train, classifieur.predict(X_cars_train), average=\"micro\"))\n",
        "    f1_test_pm.append(f1_score(Y_cars_test, classifieur.predict(X_cars_test), average=\"micro\"))\n",
        "\n",
        "plt.plot(MAX_PROF_lst, f1_train_pm, color=\"blue\", label=\"Convergence (entrainement)\")\n",
        "plt.plot(MAX_PROF_lst, f1_test_pm, color=\"red\", label=\"Test\")\n",
        "plt.ylabel(\"F1\")\n",
        "plt.xlabel(\"Profondeur max de l'arbre\")\n",
        "plt.legend()\n",
        "#plt.rcParams[\"figure.figsize\"] = (3,7)\n",
        "plt.show()"
      ],
      "execution_count": null,
      "outputs": [
        {
          "output_type": "display_data",
          "data": {
            "image/png": "[encoded data removed]",
            "text/plain": [
              "<Figure size 432x288 with 1 Axes>"
            ]
          },
          "metadata": {
            "tags": [],
            "needs_background": "light"
          }
        }
      ]
    },
    {
      "cell_type": "markdown",
      "metadata": {
        "id": "zH0_OUnObRnr"
      },
      "source": [
        "#### II.1.3. Observations minimales dans les feuilles\n",
        "\n",
        "Pour chaque nombre des observations minimales dans les feuilles, on entraîne un modèle et on mesure sa convergence et sa performance en terme du score F1. \n",
        "\n",
        "**TODO : Analyser les résultats**\n",
        "- Que remarquez-vous ?\n",
        "- Justifier pourquoi la performance se diminue (en indiquant si ce critère d'arrêt garantie un apprentissage normale ou peut causer un sur-apprentissage ou sous-apprentissage)\n",
        "\n",
        "**Réponse**\n",
        "- on remarque que le score d'entraînement diminue avec l'augmentation de nombre des observations minimales\n",
        "- un grand nombre des observations minimales va causer l'arbre à être moins profond et donc moins complexe ce qui peut causer un problème de sous-apprentissage lorsque le modèle est plus simple que le problème traité"
      ]
    },
    {
      "cell_type": "code",
      "metadata": {
        "colab": {
          "base_uri": "https://localhost:8080/",
          "height": 279
        },
        "id": "kdhWIs4IbRnr",
        "outputId": "c8f1d2ed-ce68-458f-9fa1-04dcbd18ae22"
      },
      "source": [
        "MIN_FEUILLE = 40\n",
        "\n",
        "MIN_FEUILLE_lst = range(1, MIN_FEUILLE+1, 1)\n",
        "\n",
        "f1_train_mf = []\n",
        "f1_test_mf = []\n",
        "for min_feuille in MIN_FEUILLE_lst:\n",
        "    classifieur = DecisionTreeClassifier(random_state=0, min_samples_leaf=min_feuille)\n",
        "    classifieur.fit(X_cars_train, Y_cars_train)\n",
        "    f1_train_mf.append(f1_score(Y_cars_train, classifieur.predict(X_cars_train), average=\"micro\"))\n",
        "    f1_test_mf.append(f1_score(Y_cars_test, classifieur.predict(X_cars_test), average=\"micro\"))\n",
        "\n",
        "plt.plot(MIN_FEUILLE_lst, f1_train_mf, color=\"blue\", label=\"Convergence (entrainement)\")\n",
        "plt.plot(MIN_FEUILLE_lst, f1_test_mf, color=\"red\", label=\"Test\")\n",
        "plt.ylabel(\"F1\")\n",
        "plt.xlabel(\"Observations minimales dans les feuilles\")\n",
        "plt.legend()\n",
        "#plt.rcParams[\"figure.figsize\"] = (3,7)\n",
        "plt.show()"
      ],
      "execution_count": null,
      "outputs": [
        {
          "output_type": "display_data",
          "data": {
            "image/png": "[encoded data removed]",
            "text/plain": [
              "<Figure size 432x288 with 1 Axes>"
            ]
          },
          "metadata": {
            "tags": [],
            "needs_background": "light"
          }
        }
      ]
    },
    {
      "cell_type": "markdown",
      "metadata": {
        "id": "7n6vEdDbbRns"
      },
      "source": [
        "### II.2. Forêts aléatoires\n",
        "\n",
        "#### II.2.1. Nombre des arbres\n",
        "\n",
        "Pour chaque nombre des arbres dans le forêt, on entraîne un modèle et on mesure sa convergence et sa performance en terme du score F1. \n",
        "\n",
        "**TODO : Analyser les résultats**\n",
        "- Que remarquez-vous ? (convergence et généralisation)\n",
        "\n",
        "**Réponse**\n",
        "- l'augmentation de nombre des arbres dans le forêt permet d'améliorer la convergence mais peut causer un problème de sur-apprentissage ce qui affecte sa capacité de généralisation"
      ]
    },
    {
      "cell_type": "code",
      "metadata": {
        "colab": {
          "base_uri": "https://localhost:8080/",
          "height": 279
        },
        "id": "caUGqAxZbRns",
        "outputId": "7ab587da-d1ba-49a0-9683-ea7f6bea46e7"
      },
      "source": [
        "from sklearn.ensemble import RandomForestClassifier\n",
        "\n",
        "MAX_ARBRE = 100\n",
        "\n",
        "MAX_ARBRE_lst = range(1, MAX_ARBRE+1, 1)\n",
        "\n",
        "f1_train_nbarbres = []\n",
        "f1_test_nbarbres = []\n",
        "for max_arbres in MAX_ARBRE_lst:\n",
        "    classifieur = RandomForestClassifier(n_estimators=max_arbres)\n",
        "    classifieur.fit(X_cars_train, Y_cars_train)\n",
        "    f1_train_nbarbres.append(f1_score(Y_cars_train, classifieur.predict(X_cars_train), average=\"micro\"))\n",
        "    f1_test_nbarbres.append(f1_score(Y_cars_test, classifieur.predict(X_cars_test), average=\"micro\"))\n",
        "\n",
        "plt.plot(MAX_ARBRE_lst, f1_train_nbarbres, color=\"blue\", label=\"Convergence (entrainement)\")\n",
        "plt.plot(MAX_ARBRE_lst, f1_test_nbarbres, color=\"red\", label=\"Test\")\n",
        "plt.ylabel(\"F1\")\n",
        "plt.xlabel(\"Nombre des arbres\")\n",
        "plt.legend()\n",
        "#plt.rcParams[\"figure.figsize\"] = (3,7)\n",
        "plt.show()"
      ],
      "execution_count": null,
      "outputs": [
        {
          "output_type": "display_data",
          "data": {
            "image/png": "[encoded data removed]",
            "text/plain": [
              "<Figure size 432x288 with 1 Axes>"
            ]
          },
          "metadata": {
            "tags": [],
            "needs_background": "light"
          }
        }
      ]
    },
    {
      "cell_type": "markdown",
      "metadata": {
        "id": "GFXaf6KVbRnt"
      },
      "source": [
        "#### II.2.2. Profondeur maximale des arbres\n",
        "\n",
        "Pour chaque profondeur, on entraîne un forêt et on mesure sa convergence et sa performance en terme du score F1. On compare les résultats avec les arbres équivalents (avec la même profondeur)\n",
        "\n",
        "**TODO : Analyser les résultats**\n",
        "- Comparer la convergence des forêts et des arbres en terme de la profondeur maximale\n",
        "- Comparer la généralisation des forêts et des arbres en terme de la profondeur maximale\n",
        "- Justifier ces résultats (en indiquant pourquoi nous avons des oscillations dans F1 test des forêts)\n",
        "\n",
        "**Réponse**\n",
        "- les forêts converge plus rapidement que les arbres avec en l'augmentation profondeur maximale\n",
        "- les forêts généralise mieux que les arbres avec en l'augmentation profondeur maximale\n",
        "- les foret utilise la technique de bagging ce qui lui permet de converger mieux et aussi diminue la variance des variable d'entraînement ce qui lui permet aussi de mieux généraliser , les oscillations dans F1 test des forêts est due aux différents choix aléatoire qui existe lors de construction d'un modèle de forêt  comme le bootstrapping et le choix aléatoire des attributs a considéré à chaque séparation"
      ]
    },
    {
      "cell_type": "code",
      "metadata": {
        "colab": {
          "base_uri": "https://localhost:8080/",
          "height": 279
        },
        "id": "BbRzyX3LbRnt",
        "outputId": "5a7db702-1414-4917-aa77-2100e022d6ea"
      },
      "source": [
        "f1_train_pm_foret = []\n",
        "f1_test_pm_foret = []\n",
        "for max_prof in MAX_PROF_lst:\n",
        "    classifieur = RandomForestClassifier(n_estimators=40, max_depth=max_prof)\n",
        "    classifieur.fit(X_cars_train, Y_cars_train)\n",
        "    f1_train_pm_foret.append(f1_score(Y_cars_train, classifieur.predict(X_cars_train), average=\"micro\"))\n",
        "    f1_test_pm_foret.append(f1_score(Y_cars_test, classifieur.predict(X_cars_test), average=\"micro\"))\n",
        "\n",
        "plt.plot(MAX_PROF_lst, f1_train_pm_foret, color=\"blue\", label=\"Convergence (Foret)\")\n",
        "plt.plot(MAX_PROF_lst, f1_test_pm_foret, color=\"red\", label=\"Test (Foret)\")\n",
        "plt.plot(MAX_PROF_lst, f1_train_pm, color=\"green\", label=\"Convergence (Arbre)\")\n",
        "plt.plot(MAX_PROF_lst, f1_test_pm, color=\"orange\", label=\"Test (Arbre)\")\n",
        "plt.ylabel(\"F1\")\n",
        "plt.xlabel(\"Profondeur max de l'arbre\")\n",
        "plt.legend()\n",
        "#plt.rcParams[\"figure.figsize\"] = (3,7)\n",
        "plt.show()"
      ],
      "execution_count": null,
      "outputs": [
        {
          "output_type": "display_data",
          "data": {
            "image/png": "[encoded data removed]",
            "text/plain": [
              "<Figure size 432x288 with 1 Axes>"
            ]
          },
          "metadata": {
            "tags": [],
            "needs_background": "light"
          }
        }
      ]
    },
    {
      "cell_type": "markdown",
      "metadata": {
        "id": "47lxPVUdbRnu"
      },
      "source": [
        "#### II.2.3. Observations minimales dans les feuilles\n",
        "\n",
        "Pour chaque nombre minimale des observations dans les feuilles, on entraîne un forêt et on mesure sa convergence et sa performance en terme du score F1. On compare les résultats avec les arbres équivalents (avec le même nombre des observations minimales)\n",
        "\n",
        "**TODO : Analyser les résultats**\n",
        "- Comparer la performance (convergence et généralisation) des arbres et des forêts en terme du nombre des observations dans les feuilles\n",
        "- Justifier \n",
        "\n",
        "**Réponse**\n",
        "- les arbres converge mieux que les foregt avec l'augmentation nombre des observations minimales  \n",
        "les deux modèles forêts et les  arbres ne généralisent pas bien avec  l'augmentation nombre des observations minimales\n",
        "- on peut justifier cela par le fait que les forêts utilise des boostrap de moins taille que les donne d'entraînement pour entraîner ces arbres ce qui fait qu'un grands nombre des observations dans les feuilles va affecter plus la complexité de ces arbres comparant à une arbres de décision qui utilise tous les données d'entrainements   "
      ]
    },
    {
      "cell_type": "code",
      "metadata": {
        "colab": {
          "base_uri": "https://localhost:8080/",
          "height": 279
        },
        "id": "__ViXE08bRnu",
        "outputId": "10bf7861-5f59-4967-f0d9-64b6f07369d9"
      },
      "source": [
        "f1_train_mf_foret = []\n",
        "f1_test_mf_foret = []\n",
        "for min_feuille in MIN_FEUILLE_lst:\n",
        "    classifieur = RandomForestClassifier(n_estimators=40, min_samples_leaf=min_feuille)\n",
        "    classifieur.fit(X_cars_train, Y_cars_train)\n",
        "    f1_train_mf_foret.append(f1_score(Y_cars_train, classifieur.predict(X_cars_train), average=\"micro\"))\n",
        "    f1_test_mf_foret.append(f1_score(Y_cars_test, classifieur.predict(X_cars_test), average=\"micro\"))\n",
        "\n",
        "plt.plot(MIN_FEUILLE_lst, f1_train_mf_foret, color=\"blue\", label=\"Convergence (Foret)\")\n",
        "plt.plot(MIN_FEUILLE_lst, f1_test_mf_foret, color=\"red\", label=\"Test (Foret)\")\n",
        "plt.plot(MIN_FEUILLE_lst, f1_train_mf, color=\"green\", label=\"Convergence (Arbre)\")\n",
        "plt.plot(MIN_FEUILLE_lst, f1_test_mf, color=\"orange\", label=\"Test (Arbre)\")\n",
        "plt.ylabel(\"F1\")\n",
        "plt.xlabel(\"Observations minimales dans les feuilles\")\n",
        "plt.legend()\n",
        "#plt.rcParams[\"figure.figsize\"] = (3,7)\n",
        "plt.show()"
      ],
      "execution_count": null,
      "outputs": [
        {
          "output_type": "display_data",
          "data": {
            "image/png": "[encoded data removed]",
            "text/plain": [
              "<Figure size 432x288 with 1 Axes>"
            ]
          },
          "metadata": {
            "tags": [],
            "needs_background": "light"
          }
        }
      ]
    },
    {
      "cell_type": "markdown",
      "metadata": {
        "id": "f_8RTY8MbRnv"
      },
      "source": [
        "#### II.2.4. Taille d'un Bootstrap\n",
        "\n",
        "Ici, on définit un pourcentage de la taille des Bootstrap par rapport la taille initiale du dataset. Pour chaque pourcentage, on entraîne un forêt et on test sa performance (convergence et généralisation) en utilisant la mesure F1.\n",
        "\n",
        "**TODO : Analyser les résultats**\n",
        "- Que remarquez-vous ?\n",
        "- Quelle est la raison pour laquelle la performance n'augmente pas d'une manière lisse ?\n",
        "\n",
        "**Réponse**\n",
        "- on remarque que la convergtence egt la capacigte de gteneralisagtion augtmenegte avec l'augtmengtagtion de pourcentage de la taille des Bootstrap par rapport la taille initiale du dataset mais d'une cette augtmengtagtion a une forme d'oscillations \n",
        "\n",
        "- les oscillations dans F1 test et entraînement des forêts avec  l'augmentation de pourcentage de la taille des Bootstrap par rapport la taille initiale du dataset est due aux différents choix aléatoire qui existe lors de construction d'un modèle de forêt  comme le choix aléatoire des attributs a considéré à chaque séparation et surtout le bootstrapping parce que l'augmentation de taille de bootstrap va inclure plus de choix aléatoires dans le modèle "
      ]
    },
    {
      "cell_type": "code",
      "metadata": {
        "colab": {
          "base_uri": "https://localhost:8080/",
          "height": 279
        },
        "id": "puDOSfjJbRnv",
        "outputId": "451a47b4-63ee-4222-aeef-02c47aad0f07"
      },
      "source": [
        "POUR_OBS_lst = np.arange(0.1, 1, 0.01)\n",
        "\n",
        "f1_train_ech = []\n",
        "f1_test_ech = []\n",
        "for pour_obs in POUR_OBS_lst:\n",
        "    classifieur = RandomForestClassifier(n_estimators=40, max_samples=pour_obs)\n",
        "    classifieur.fit(X_cars_train, Y_cars_train)\n",
        "    f1_train_ech.append(f1_score(Y_cars_train, classifieur.predict(X_cars_train), average=\"micro\"))\n",
        "    f1_test_ech.append(f1_score(Y_cars_test, classifieur.predict(X_cars_test), average=\"micro\"))\n",
        "\n",
        "plt.plot(POUR_OBS_lst, f1_train_ech, color=\"blue\", label=\"Convergence (Foret)\")\n",
        "plt.plot(POUR_OBS_lst, f1_test_ech, color=\"red\", label=\"Test (Foret)\")\n",
        "plt.ylabel(\"F1\")\n",
        "plt.xlabel(\"Pourcentage du bootstap par rapport le dataset originale\")\n",
        "plt.legend()\n",
        "#plt.rcParams[\"figure.figsize\"] = (3,7)\n",
        "plt.show()"
      ],
      "execution_count": null,
      "outputs": [
        {
          "output_type": "display_data",
          "data": {
            "image/png": "[encoded data removed]",
            "text/plain": [
              "<Figure size 432x288 with 1 Axes>"
            ]
          },
          "metadata": {
            "tags": [],
            "needs_background": "light"
          }
        }
      ]
    }
  ]
}